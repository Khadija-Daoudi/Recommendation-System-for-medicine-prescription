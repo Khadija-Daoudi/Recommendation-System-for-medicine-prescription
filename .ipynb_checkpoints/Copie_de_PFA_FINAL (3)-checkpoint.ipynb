{
 "cells": [
  {
   "cell_type": "code",
   "execution_count": 1,
   "metadata": {
    "id": "R5bHFeiwRIKT"
   },
   "outputs": [
    {
     "name": "stderr",
     "output_type": "stream",
     "text": [
      "C:\\Users\\ldaou\\anaconda3\\lib\\site-packages\\tensorflow\\python\\framework\\dtypes.py:516: FutureWarning: Passing (type, 1) or '1type' as a synonym of type is deprecated; in a future version of numpy, it will be understood as (type, (1,)) / '(1,)type'.\n",
      "  _np_qint8 = np.dtype([(\"qint8\", np.int8, 1)])\n",
      "C:\\Users\\ldaou\\anaconda3\\lib\\site-packages\\tensorflow\\python\\framework\\dtypes.py:517: FutureWarning: Passing (type, 1) or '1type' as a synonym of type is deprecated; in a future version of numpy, it will be understood as (type, (1,)) / '(1,)type'.\n",
      "  _np_quint8 = np.dtype([(\"quint8\", np.uint8, 1)])\n",
      "C:\\Users\\ldaou\\anaconda3\\lib\\site-packages\\tensorflow\\python\\framework\\dtypes.py:518: FutureWarning: Passing (type, 1) or '1type' as a synonym of type is deprecated; in a future version of numpy, it will be understood as (type, (1,)) / '(1,)type'.\n",
      "  _np_qint16 = np.dtype([(\"qint16\", np.int16, 1)])\n",
      "C:\\Users\\ldaou\\anaconda3\\lib\\site-packages\\tensorflow\\python\\framework\\dtypes.py:519: FutureWarning: Passing (type, 1) or '1type' as a synonym of type is deprecated; in a future version of numpy, it will be understood as (type, (1,)) / '(1,)type'.\n",
      "  _np_quint16 = np.dtype([(\"quint16\", np.uint16, 1)])\n",
      "C:\\Users\\ldaou\\anaconda3\\lib\\site-packages\\tensorflow\\python\\framework\\dtypes.py:520: FutureWarning: Passing (type, 1) or '1type' as a synonym of type is deprecated; in a future version of numpy, it will be understood as (type, (1,)) / '(1,)type'.\n",
      "  _np_qint32 = np.dtype([(\"qint32\", np.int32, 1)])\n",
      "C:\\Users\\ldaou\\anaconda3\\lib\\site-packages\\tensorflow\\python\\framework\\dtypes.py:525: FutureWarning: Passing (type, 1) or '1type' as a synonym of type is deprecated; in a future version of numpy, it will be understood as (type, (1,)) / '(1,)type'.\n",
      "  np_resource = np.dtype([(\"resource\", np.ubyte, 1)])\n",
      "C:\\Users\\ldaou\\anaconda3\\lib\\site-packages\\tensorboard\\compat\\tensorflow_stub\\dtypes.py:541: FutureWarning: Passing (type, 1) or '1type' as a synonym of type is deprecated; in a future version of numpy, it will be understood as (type, (1,)) / '(1,)type'.\n",
      "  _np_qint8 = np.dtype([(\"qint8\", np.int8, 1)])\n",
      "C:\\Users\\ldaou\\anaconda3\\lib\\site-packages\\tensorboard\\compat\\tensorflow_stub\\dtypes.py:542: FutureWarning: Passing (type, 1) or '1type' as a synonym of type is deprecated; in a future version of numpy, it will be understood as (type, (1,)) / '(1,)type'.\n",
      "  _np_quint8 = np.dtype([(\"quint8\", np.uint8, 1)])\n",
      "C:\\Users\\ldaou\\anaconda3\\lib\\site-packages\\tensorboard\\compat\\tensorflow_stub\\dtypes.py:543: FutureWarning: Passing (type, 1) or '1type' as a synonym of type is deprecated; in a future version of numpy, it will be understood as (type, (1,)) / '(1,)type'.\n",
      "  _np_qint16 = np.dtype([(\"qint16\", np.int16, 1)])\n",
      "C:\\Users\\ldaou\\anaconda3\\lib\\site-packages\\tensorboard\\compat\\tensorflow_stub\\dtypes.py:544: FutureWarning: Passing (type, 1) or '1type' as a synonym of type is deprecated; in a future version of numpy, it will be understood as (type, (1,)) / '(1,)type'.\n",
      "  _np_quint16 = np.dtype([(\"quint16\", np.uint16, 1)])\n",
      "C:\\Users\\ldaou\\anaconda3\\lib\\site-packages\\tensorboard\\compat\\tensorflow_stub\\dtypes.py:545: FutureWarning: Passing (type, 1) or '1type' as a synonym of type is deprecated; in a future version of numpy, it will be understood as (type, (1,)) / '(1,)type'.\n",
      "  _np_qint32 = np.dtype([(\"qint32\", np.int32, 1)])\n",
      "C:\\Users\\ldaou\\anaconda3\\lib\\site-packages\\tensorboard\\compat\\tensorflow_stub\\dtypes.py:550: FutureWarning: Passing (type, 1) or '1type' as a synonym of type is deprecated; in a future version of numpy, it will be understood as (type, (1,)) / '(1,)type'.\n",
      "  np_resource = np.dtype([(\"resource\", np.ubyte, 1)])\n"
     ]
    }
   ],
   "source": [
    "import pandas as pd \n",
    "import networkx as nx\n",
    "import matplotlib.pyplot as plt\n",
    "from matplotlib.pyplot import figure\n",
    "#pytorch\n",
    "import torch\n",
    "import torch.nn as nn\n",
    "import torch.nn.functional as F\n",
    "import torch.utils.data as data\n",
    "import torch.optim as optim\n",
    "# Torchvision\n",
    "import torchvision\n",
    "from torchvision.datasets import CIFAR10\n",
    "from torchvision import transforms\n",
    "# import packages\n",
    "import tensorflow as tf\n",
    "\n",
    "from sklearn.datasets import load_iris\n",
    "from sklearn.model_selection import train_test_split"
   ]
  },
  {
   "cell_type": "code",
   "execution_count": 2,
   "metadata": {
    "colab": {
     "base_uri": "https://localhost:8080/",
     "height": 505
    },
    "id": "VprxIt8KRIKW",
    "outputId": "a67a4132-cefb-44e9-e85c-866658c31925"
   },
   "outputs": [
    {
     "data": {
      "text/html": [
       "<div>\n",
       "<style scoped>\n",
       "    .dataframe tbody tr th:only-of-type {\n",
       "        vertical-align: middle;\n",
       "    }\n",
       "\n",
       "    .dataframe tbody tr th {\n",
       "        vertical-align: top;\n",
       "    }\n",
       "\n",
       "    .dataframe thead th {\n",
       "        text-align: right;\n",
       "    }\n",
       "</style>\n",
       "<table border=\"1\" class=\"dataframe\">\n",
       "  <thead>\n",
       "    <tr style=\"text-align: right;\">\n",
       "      <th></th>\n",
       "      <th>gene_name</th>\n",
       "      <th>gene_claim_name</th>\n",
       "      <th>entrez_id</th>\n",
       "      <th>interaction_claim_source</th>\n",
       "      <th>interaction_types</th>\n",
       "      <th>drug_claim_name</th>\n",
       "      <th>drug_claim_primary_name</th>\n",
       "      <th>drug_name</th>\n",
       "      <th>drug_concept_id</th>\n",
       "      <th>interaction_group_score</th>\n",
       "      <th>PMIDs</th>\n",
       "    </tr>\n",
       "  </thead>\n",
       "  <tbody>\n",
       "    <tr>\n",
       "      <th>0</th>\n",
       "      <td>CDK7</td>\n",
       "      <td>CDK7</td>\n",
       "      <td>1022.0</td>\n",
       "      <td>CancerCommons</td>\n",
       "      <td>inhibitor</td>\n",
       "      <td>SNS-032</td>\n",
       "      <td>SNS-032</td>\n",
       "      <td>BMS-387032</td>\n",
       "      <td>chembl:CHEMBL296468</td>\n",
       "      <td>0.82</td>\n",
       "      <td>NaN</td>\n",
       "    </tr>\n",
       "    <tr>\n",
       "      <th>1</th>\n",
       "      <td>VDR</td>\n",
       "      <td>VDR</td>\n",
       "      <td>7421.0</td>\n",
       "      <td>DTC</td>\n",
       "      <td>NaN</td>\n",
       "      <td>NIFEKALANT</td>\n",
       "      <td>NIFEKALANT</td>\n",
       "      <td>NIFEKALANT</td>\n",
       "      <td>chembl:CHEMBL360861</td>\n",
       "      <td>0.14</td>\n",
       "      <td>NaN</td>\n",
       "    </tr>\n",
       "    <tr>\n",
       "      <th>2</th>\n",
       "      <td>GPR55</td>\n",
       "      <td>GPR55</td>\n",
       "      <td>9290.0</td>\n",
       "      <td>DTC</td>\n",
       "      <td>NaN</td>\n",
       "      <td>BISACODYL</td>\n",
       "      <td>BISACODYL</td>\n",
       "      <td>BISACODYL</td>\n",
       "      <td>chembl:CHEMBL942</td>\n",
       "      <td>0.94</td>\n",
       "      <td>NaN</td>\n",
       "    </tr>\n",
       "    <tr>\n",
       "      <th>3</th>\n",
       "      <td>NR1H4</td>\n",
       "      <td>NR1H4</td>\n",
       "      <td>9971.0</td>\n",
       "      <td>DTC</td>\n",
       "      <td>NaN</td>\n",
       "      <td>PENTACHLOROPHENOL</td>\n",
       "      <td>PENTACHLOROPHENOL</td>\n",
       "      <td>PENTACHLOROPHENOL</td>\n",
       "      <td>chembl:CHEMBL75967</td>\n",
       "      <td>0.07</td>\n",
       "      <td>NaN</td>\n",
       "    </tr>\n",
       "    <tr>\n",
       "      <th>4</th>\n",
       "      <td>FGFR2</td>\n",
       "      <td>FGFR2</td>\n",
       "      <td>2263.0</td>\n",
       "      <td>JAX-CKB</td>\n",
       "      <td>NaN</td>\n",
       "      <td>AZ6089</td>\n",
       "      <td>AZ6089</td>\n",
       "      <td>NaN</td>\n",
       "      <td>NaN</td>\n",
       "      <td>NaN</td>\n",
       "      <td>22869148</td>\n",
       "    </tr>\n",
       "    <tr>\n",
       "      <th>...</th>\n",
       "      <td>...</td>\n",
       "      <td>...</td>\n",
       "      <td>...</td>\n",
       "      <td>...</td>\n",
       "      <td>...</td>\n",
       "      <td>...</td>\n",
       "      <td>...</td>\n",
       "      <td>...</td>\n",
       "      <td>...</td>\n",
       "      <td>...</td>\n",
       "      <td>...</td>\n",
       "    </tr>\n",
       "    <tr>\n",
       "      <th>85455</th>\n",
       "      <td>PIK3C3</td>\n",
       "      <td>PIK3C3</td>\n",
       "      <td>5289.0</td>\n",
       "      <td>MyCancerGenome</td>\n",
       "      <td>inhibitor</td>\n",
       "      <td>BGJ398</td>\n",
       "      <td>BGJ398</td>\n",
       "      <td>INFIGRATINIB</td>\n",
       "      <td>chembl:CHEMBL1852688</td>\n",
       "      <td>0.17</td>\n",
       "      <td>NaN</td>\n",
       "    </tr>\n",
       "    <tr>\n",
       "      <th>85456</th>\n",
       "      <td>ABL1</td>\n",
       "      <td>Tyrosine-protein kinase ABL1</td>\n",
       "      <td>25.0</td>\n",
       "      <td>TTD</td>\n",
       "      <td>NaN</td>\n",
       "      <td>Azaindole derivative 2</td>\n",
       "      <td>Azaindole derivative 2</td>\n",
       "      <td>NaN</td>\n",
       "      <td>NaN</td>\n",
       "      <td>NaN</td>\n",
       "      <td>NaN</td>\n",
       "    </tr>\n",
       "    <tr>\n",
       "      <th>85457</th>\n",
       "      <td>CACNA1D</td>\n",
       "      <td>776</td>\n",
       "      <td>776.0</td>\n",
       "      <td>GuideToPharmacology</td>\n",
       "      <td>inhibitor</td>\n",
       "      <td>135651166</td>\n",
       "      <td>[3H](+)-ISRADIPINE</td>\n",
       "      <td>NaN</td>\n",
       "      <td>NaN</td>\n",
       "      <td>NaN</td>\n",
       "      <td>NaN</td>\n",
       "    </tr>\n",
       "    <tr>\n",
       "      <th>85458</th>\n",
       "      <td>PRKCA</td>\n",
       "      <td>PRKCA</td>\n",
       "      <td>5578.0</td>\n",
       "      <td>DTC</td>\n",
       "      <td>NaN</td>\n",
       "      <td>RESVERATROL</td>\n",
       "      <td>RESVERATROL</td>\n",
       "      <td>RESVERATROL</td>\n",
       "      <td>chembl:CHEMBL165</td>\n",
       "      <td>0.12</td>\n",
       "      <td>21880495</td>\n",
       "    </tr>\n",
       "    <tr>\n",
       "      <th>85459</th>\n",
       "      <td>P4HB</td>\n",
       "      <td>P4HB</td>\n",
       "      <td>5034.0</td>\n",
       "      <td>DTC</td>\n",
       "      <td>NaN</td>\n",
       "      <td>GNF-PF-2976</td>\n",
       "      <td>GNF-PF-2976</td>\n",
       "      <td>CHEMBL579956</td>\n",
       "      <td>chembl:CHEMBL579956</td>\n",
       "      <td>3.54</td>\n",
       "      <td>NaN</td>\n",
       "    </tr>\n",
       "  </tbody>\n",
       "</table>\n",
       "<p>85460 rows × 11 columns</p>\n",
       "</div>"
      ],
      "text/plain": [
       "      gene_name               gene_claim_name  entrez_id  \\\n",
       "0          CDK7                          CDK7     1022.0   \n",
       "1           VDR                           VDR     7421.0   \n",
       "2         GPR55                         GPR55     9290.0   \n",
       "3         NR1H4                         NR1H4     9971.0   \n",
       "4         FGFR2                         FGFR2     2263.0   \n",
       "...         ...                           ...        ...   \n",
       "85455    PIK3C3                        PIK3C3     5289.0   \n",
       "85456      ABL1  Tyrosine-protein kinase ABL1       25.0   \n",
       "85457   CACNA1D                           776      776.0   \n",
       "85458     PRKCA                         PRKCA     5578.0   \n",
       "85459      P4HB                          P4HB     5034.0   \n",
       "\n",
       "      interaction_claim_source interaction_types         drug_claim_name  \\\n",
       "0                CancerCommons         inhibitor                 SNS-032   \n",
       "1                          DTC               NaN              NIFEKALANT   \n",
       "2                          DTC               NaN               BISACODYL   \n",
       "3                          DTC               NaN       PENTACHLOROPHENOL   \n",
       "4                      JAX-CKB               NaN                  AZ6089   \n",
       "...                        ...               ...                     ...   \n",
       "85455           MyCancerGenome         inhibitor                  BGJ398   \n",
       "85456                      TTD               NaN  Azaindole derivative 2   \n",
       "85457      GuideToPharmacology         inhibitor               135651166   \n",
       "85458                      DTC               NaN             RESVERATROL   \n",
       "85459                      DTC               NaN             GNF-PF-2976   \n",
       "\n",
       "      drug_claim_primary_name          drug_name       drug_concept_id  \\\n",
       "0                     SNS-032         BMS-387032   chembl:CHEMBL296468   \n",
       "1                  NIFEKALANT         NIFEKALANT   chembl:CHEMBL360861   \n",
       "2                   BISACODYL          BISACODYL      chembl:CHEMBL942   \n",
       "3           PENTACHLOROPHENOL  PENTACHLOROPHENOL    chembl:CHEMBL75967   \n",
       "4                      AZ6089                NaN                   NaN   \n",
       "...                       ...                ...                   ...   \n",
       "85455                  BGJ398       INFIGRATINIB  chembl:CHEMBL1852688   \n",
       "85456  Azaindole derivative 2                NaN                   NaN   \n",
       "85457      [3H](+)-ISRADIPINE                NaN                   NaN   \n",
       "85458             RESVERATROL        RESVERATROL      chembl:CHEMBL165   \n",
       "85459             GNF-PF-2976       CHEMBL579956   chembl:CHEMBL579956   \n",
       "\n",
       "       interaction_group_score     PMIDs  \n",
       "0                         0.82       NaN  \n",
       "1                         0.14       NaN  \n",
       "2                         0.94       NaN  \n",
       "3                         0.07       NaN  \n",
       "4                          NaN  22869148  \n",
       "...                        ...       ...  \n",
       "85455                     0.17       NaN  \n",
       "85456                      NaN       NaN  \n",
       "85457                      NaN       NaN  \n",
       "85458                     0.12  21880495  \n",
       "85459                     3.54       NaN  \n",
       "\n",
       "[85460 rows x 11 columns]"
      ]
     },
     "execution_count": 2,
     "metadata": {},
     "output_type": "execute_result"
    }
   ],
   "source": [
    "df = pd.read_csv('interactions.tsv', sep = '\\t')\n",
    "df"
   ]
  },
  {
   "cell_type": "code",
   "execution_count": 3,
   "metadata": {
    "colab": {
     "base_uri": "https://localhost:8080/",
     "height": 423
    },
    "id": "AdErI0dWRIKW",
    "outputId": "7609f6cf-a0bb-420c-929a-eb826d363654"
   },
   "outputs": [
    {
     "data": {
      "text/html": [
       "<div>\n",
       "<style scoped>\n",
       "    .dataframe tbody tr th:only-of-type {\n",
       "        vertical-align: middle;\n",
       "    }\n",
       "\n",
       "    .dataframe tbody tr th {\n",
       "        vertical-align: top;\n",
       "    }\n",
       "\n",
       "    .dataframe thead th {\n",
       "        text-align: right;\n",
       "    }\n",
       "</style>\n",
       "<table border=\"1\" class=\"dataframe\">\n",
       "  <thead>\n",
       "    <tr style=\"text-align: right;\">\n",
       "      <th></th>\n",
       "      <th>gene_name</th>\n",
       "      <th>drug_name</th>\n",
       "      <th>interaction_group_score</th>\n",
       "    </tr>\n",
       "  </thead>\n",
       "  <tbody>\n",
       "    <tr>\n",
       "      <th>0</th>\n",
       "      <td>CDK7</td>\n",
       "      <td>BMS-387032</td>\n",
       "      <td>0.82</td>\n",
       "    </tr>\n",
       "    <tr>\n",
       "      <th>1</th>\n",
       "      <td>VDR</td>\n",
       "      <td>NIFEKALANT</td>\n",
       "      <td>0.14</td>\n",
       "    </tr>\n",
       "    <tr>\n",
       "      <th>2</th>\n",
       "      <td>GPR55</td>\n",
       "      <td>BISACODYL</td>\n",
       "      <td>0.94</td>\n",
       "    </tr>\n",
       "    <tr>\n",
       "      <th>3</th>\n",
       "      <td>NR1H4</td>\n",
       "      <td>PENTACHLOROPHENOL</td>\n",
       "      <td>0.07</td>\n",
       "    </tr>\n",
       "    <tr>\n",
       "      <th>4</th>\n",
       "      <td>FGFR2</td>\n",
       "      <td>NaN</td>\n",
       "      <td>NaN</td>\n",
       "    </tr>\n",
       "    <tr>\n",
       "      <th>...</th>\n",
       "      <td>...</td>\n",
       "      <td>...</td>\n",
       "      <td>...</td>\n",
       "    </tr>\n",
       "    <tr>\n",
       "      <th>85455</th>\n",
       "      <td>PIK3C3</td>\n",
       "      <td>INFIGRATINIB</td>\n",
       "      <td>0.17</td>\n",
       "    </tr>\n",
       "    <tr>\n",
       "      <th>85456</th>\n",
       "      <td>ABL1</td>\n",
       "      <td>NaN</td>\n",
       "      <td>NaN</td>\n",
       "    </tr>\n",
       "    <tr>\n",
       "      <th>85457</th>\n",
       "      <td>CACNA1D</td>\n",
       "      <td>NaN</td>\n",
       "      <td>NaN</td>\n",
       "    </tr>\n",
       "    <tr>\n",
       "      <th>85458</th>\n",
       "      <td>PRKCA</td>\n",
       "      <td>RESVERATROL</td>\n",
       "      <td>0.12</td>\n",
       "    </tr>\n",
       "    <tr>\n",
       "      <th>85459</th>\n",
       "      <td>P4HB</td>\n",
       "      <td>CHEMBL579956</td>\n",
       "      <td>3.54</td>\n",
       "    </tr>\n",
       "  </tbody>\n",
       "</table>\n",
       "<p>85460 rows × 3 columns</p>\n",
       "</div>"
      ],
      "text/plain": [
       "      gene_name          drug_name  interaction_group_score\n",
       "0          CDK7         BMS-387032                     0.82\n",
       "1           VDR         NIFEKALANT                     0.14\n",
       "2         GPR55          BISACODYL                     0.94\n",
       "3         NR1H4  PENTACHLOROPHENOL                     0.07\n",
       "4         FGFR2                NaN                      NaN\n",
       "...         ...                ...                      ...\n",
       "85455    PIK3C3       INFIGRATINIB                     0.17\n",
       "85456      ABL1                NaN                      NaN\n",
       "85457   CACNA1D                NaN                      NaN\n",
       "85458     PRKCA        RESVERATROL                     0.12\n",
       "85459      P4HB       CHEMBL579956                     3.54\n",
       "\n",
       "[85460 rows x 3 columns]"
      ]
     },
     "execution_count": 3,
     "metadata": {},
     "output_type": "execute_result"
    }
   ],
   "source": [
    "newDF = df[['gene_name','drug_name','interaction_group_score']]\n",
    "newDF"
   ]
  },
  {
   "cell_type": "code",
   "execution_count": 4,
   "metadata": {
    "colab": {
     "base_uri": "https://localhost:8080/"
    },
    "id": "YsuYxQ3pRIKX",
    "outputId": "bc159370-ccaf-400f-9eb8-92dd7387029d"
   },
   "outputs": [
    {
     "data": {
      "text/plain": [
       "3124"
      ]
     },
     "execution_count": 4,
     "metadata": {},
     "output_type": "execute_result"
    }
   ],
   "source": [
    "newDF['gene_name'].isnull().sum()"
   ]
  },
  {
   "cell_type": "code",
   "execution_count": 5,
   "metadata": {
    "colab": {
     "base_uri": "https://localhost:8080/",
     "height": 423
    },
    "id": "xNs_f0f0RIKX",
    "outputId": "9404ef05-4a62-48db-8507-1338c66b57a9"
   },
   "outputs": [
    {
     "data": {
      "text/html": [
       "<div>\n",
       "<style scoped>\n",
       "    .dataframe tbody tr th:only-of-type {\n",
       "        vertical-align: middle;\n",
       "    }\n",
       "\n",
       "    .dataframe tbody tr th {\n",
       "        vertical-align: top;\n",
       "    }\n",
       "\n",
       "    .dataframe thead th {\n",
       "        text-align: right;\n",
       "    }\n",
       "</style>\n",
       "<table border=\"1\" class=\"dataframe\">\n",
       "  <thead>\n",
       "    <tr style=\"text-align: right;\">\n",
       "      <th></th>\n",
       "      <th>gene_name</th>\n",
       "      <th>drug_name</th>\n",
       "      <th>interaction_group_score</th>\n",
       "    </tr>\n",
       "  </thead>\n",
       "  <tbody>\n",
       "    <tr>\n",
       "      <th>0</th>\n",
       "      <td>CDK7</td>\n",
       "      <td>BMS-387032</td>\n",
       "      <td>0.82</td>\n",
       "    </tr>\n",
       "    <tr>\n",
       "      <th>1</th>\n",
       "      <td>VDR</td>\n",
       "      <td>NIFEKALANT</td>\n",
       "      <td>0.14</td>\n",
       "    </tr>\n",
       "    <tr>\n",
       "      <th>2</th>\n",
       "      <td>GPR55</td>\n",
       "      <td>BISACODYL</td>\n",
       "      <td>0.94</td>\n",
       "    </tr>\n",
       "    <tr>\n",
       "      <th>3</th>\n",
       "      <td>NR1H4</td>\n",
       "      <td>PENTACHLOROPHENOL</td>\n",
       "      <td>0.07</td>\n",
       "    </tr>\n",
       "    <tr>\n",
       "      <th>5</th>\n",
       "      <td>APOE</td>\n",
       "      <td>PREDNISONE</td>\n",
       "      <td>0.23</td>\n",
       "    </tr>\n",
       "    <tr>\n",
       "      <th>...</th>\n",
       "      <td>...</td>\n",
       "      <td>...</td>\n",
       "      <td>...</td>\n",
       "    </tr>\n",
       "    <tr>\n",
       "      <th>85449</th>\n",
       "      <td>CSF1R</td>\n",
       "      <td>CHEMBL541400</td>\n",
       "      <td>0.03</td>\n",
       "    </tr>\n",
       "    <tr>\n",
       "      <th>85452</th>\n",
       "      <td>CDK8</td>\n",
       "      <td>CHEMBL546797</td>\n",
       "      <td>0.09</td>\n",
       "    </tr>\n",
       "    <tr>\n",
       "      <th>85455</th>\n",
       "      <td>PIK3C3</td>\n",
       "      <td>INFIGRATINIB</td>\n",
       "      <td>0.17</td>\n",
       "    </tr>\n",
       "    <tr>\n",
       "      <th>85458</th>\n",
       "      <td>PRKCA</td>\n",
       "      <td>RESVERATROL</td>\n",
       "      <td>0.12</td>\n",
       "    </tr>\n",
       "    <tr>\n",
       "      <th>85459</th>\n",
       "      <td>P4HB</td>\n",
       "      <td>CHEMBL579956</td>\n",
       "      <td>3.54</td>\n",
       "    </tr>\n",
       "  </tbody>\n",
       "</table>\n",
       "<p>58690 rows × 3 columns</p>\n",
       "</div>"
      ],
      "text/plain": [
       "      gene_name          drug_name  interaction_group_score\n",
       "0          CDK7         BMS-387032                     0.82\n",
       "1           VDR         NIFEKALANT                     0.14\n",
       "2         GPR55          BISACODYL                     0.94\n",
       "3         NR1H4  PENTACHLOROPHENOL                     0.07\n",
       "5          APOE         PREDNISONE                     0.23\n",
       "...         ...                ...                      ...\n",
       "85449     CSF1R       CHEMBL541400                     0.03\n",
       "85452      CDK8       CHEMBL546797                     0.09\n",
       "85455    PIK3C3       INFIGRATINIB                     0.17\n",
       "85458     PRKCA        RESVERATROL                     0.12\n",
       "85459      P4HB       CHEMBL579956                     3.54\n",
       "\n",
       "[58690 rows x 3 columns]"
      ]
     },
     "execution_count": 5,
     "metadata": {},
     "output_type": "execute_result"
    }
   ],
   "source": [
    "dataframe = newDF.dropna()\n",
    "dataframe"
   ]
  },
  {
   "cell_type": "code",
   "execution_count": 6,
   "metadata": {
    "colab": {
     "base_uri": "https://localhost:8080/"
    },
    "id": "o9SqQ4MaRIKX",
    "outputId": "d7b8d457-bbc1-49ac-cd9b-0fb7249e074c"
   },
   "outputs": [
    {
     "data": {
      "text/plain": [
       "0"
      ]
     },
     "execution_count": 6,
     "metadata": {},
     "output_type": "execute_result"
    }
   ],
   "source": [
    "dataframe['drug_name'].isnull().sum()"
   ]
  },
  {
   "cell_type": "code",
   "execution_count": 7,
   "metadata": {
    "colab": {
     "base_uri": "https://localhost:8080/"
    },
    "id": "cGUjF_afRIKY",
    "outputId": "6466875c-0aa5-4ef8-a6a4-79c549092d26"
   },
   "outputs": [
    {
     "data": {
      "text/plain": [
       "0"
      ]
     },
     "execution_count": 7,
     "metadata": {},
     "output_type": "execute_result"
    }
   ],
   "source": [
    "dataframe['gene_name'].isnull().sum()"
   ]
  },
  {
   "cell_type": "code",
   "execution_count": 8,
   "metadata": {
    "colab": {
     "base_uri": "https://localhost:8080/"
    },
    "id": "WsWzRckuRIKY",
    "outputId": "406685f0-52ea-4f27-9002-54923eb8ab76"
   },
   "outputs": [
    {
     "data": {
      "text/plain": [
       "0"
      ]
     },
     "execution_count": 8,
     "metadata": {},
     "output_type": "execute_result"
    }
   ],
   "source": [
    "dataframe['interaction_group_score'].isnull().sum()"
   ]
  },
  {
   "cell_type": "code",
   "execution_count": 9,
   "metadata": {
    "id": "iJfi8bUURIKY"
   },
   "outputs": [],
   "source": [
    "#dataframe.groupby('gene_name')"
   ]
  },
  {
   "cell_type": "code",
   "execution_count": 10,
   "metadata": {
    "colab": {
     "base_uri": "https://localhost:8080/",
     "height": 423
    },
    "id": "Lgx_DzMxRIKZ",
    "outputId": "8c2ebafc-b4cb-4cb7-94aa-57ac1990663f"
   },
   "outputs": [
    {
     "data": {
      "text/html": [
       "<div>\n",
       "<style scoped>\n",
       "    .dataframe tbody tr th:only-of-type {\n",
       "        vertical-align: middle;\n",
       "    }\n",
       "\n",
       "    .dataframe tbody tr th {\n",
       "        vertical-align: top;\n",
       "    }\n",
       "\n",
       "    .dataframe thead th {\n",
       "        text-align: right;\n",
       "    }\n",
       "</style>\n",
       "<table border=\"1\" class=\"dataframe\">\n",
       "  <thead>\n",
       "    <tr style=\"text-align: right;\">\n",
       "      <th></th>\n",
       "      <th>gene_name</th>\n",
       "      <th>drug_name</th>\n",
       "      <th>interaction_group_score</th>\n",
       "    </tr>\n",
       "  </thead>\n",
       "  <tbody>\n",
       "    <tr>\n",
       "      <th>84253</th>\n",
       "      <td>A2M</td>\n",
       "      <td>THROMBIN</td>\n",
       "      <td>5.30</td>\n",
       "    </tr>\n",
       "    <tr>\n",
       "      <th>19794</th>\n",
       "      <td>AAK1</td>\n",
       "      <td>BARICITINIB</td>\n",
       "      <td>7.96</td>\n",
       "    </tr>\n",
       "    <tr>\n",
       "      <th>46335</th>\n",
       "      <td>AANAT</td>\n",
       "      <td>FLUOXETINE</td>\n",
       "      <td>1.41</td>\n",
       "    </tr>\n",
       "    <tr>\n",
       "      <th>50157</th>\n",
       "      <td>AANAT</td>\n",
       "      <td>MELATONIN</td>\n",
       "      <td>3.14</td>\n",
       "    </tr>\n",
       "    <tr>\n",
       "      <th>47878</th>\n",
       "      <td>AANAT</td>\n",
       "      <td>ISOPROTERENOL</td>\n",
       "      <td>1.46</td>\n",
       "    </tr>\n",
       "    <tr>\n",
       "      <th>...</th>\n",
       "      <td>...</td>\n",
       "      <td>...</td>\n",
       "      <td>...</td>\n",
       "    </tr>\n",
       "    <tr>\n",
       "      <th>70908</th>\n",
       "      <td>ZNF565</td>\n",
       "      <td>METHYLPHENIDATE</td>\n",
       "      <td>2.83</td>\n",
       "    </tr>\n",
       "    <tr>\n",
       "      <th>58879</th>\n",
       "      <td>ZNF804A</td>\n",
       "      <td>LITHIUM</td>\n",
       "      <td>2.77</td>\n",
       "    </tr>\n",
       "    <tr>\n",
       "      <th>15107</th>\n",
       "      <td>ZSCAN25</td>\n",
       "      <td>LOPINAVIR</td>\n",
       "      <td>2.36</td>\n",
       "    </tr>\n",
       "    <tr>\n",
       "      <th>78255</th>\n",
       "      <td>ZSCAN25</td>\n",
       "      <td>TACROLIMUS</td>\n",
       "      <td>1.87</td>\n",
       "    </tr>\n",
       "    <tr>\n",
       "      <th>14971</th>\n",
       "      <td>ZSCAN25</td>\n",
       "      <td>LUMEFANTRINE</td>\n",
       "      <td>5.30</td>\n",
       "    </tr>\n",
       "  </tbody>\n",
       "</table>\n",
       "<p>58690 rows × 3 columns</p>\n",
       "</div>"
      ],
      "text/plain": [
       "      gene_name        drug_name  interaction_group_score\n",
       "84253       A2M         THROMBIN                     5.30\n",
       "19794      AAK1      BARICITINIB                     7.96\n",
       "46335     AANAT       FLUOXETINE                     1.41\n",
       "50157     AANAT        MELATONIN                     3.14\n",
       "47878     AANAT    ISOPROTERENOL                     1.46\n",
       "...         ...              ...                      ...\n",
       "70908    ZNF565  METHYLPHENIDATE                     2.83\n",
       "58879   ZNF804A          LITHIUM                     2.77\n",
       "15107   ZSCAN25        LOPINAVIR                     2.36\n",
       "78255   ZSCAN25       TACROLIMUS                     1.87\n",
       "14971   ZSCAN25     LUMEFANTRINE                     5.30\n",
       "\n",
       "[58690 rows x 3 columns]"
      ]
     },
     "execution_count": 10,
     "metadata": {},
     "output_type": "execute_result"
    }
   ],
   "source": [
    "dataframe.sort_values('gene_name')"
   ]
  },
  {
   "cell_type": "code",
   "execution_count": 11,
   "metadata": {
    "id": "kSqO_p_7RIKZ"
   },
   "outputs": [],
   "source": [
    "G = nx.from_pandas_edgelist(dataframe[:30], source='gene_name', target='drug_name',edge_attr= 'interaction_group_score')"
   ]
  },
  {
   "cell_type": "code",
   "execution_count": 12,
   "metadata": {
    "colab": {
     "base_uri": "https://localhost:8080/"
    },
    "id": "Hj5fZm-QRIKZ",
    "outputId": "eda56273-a0a6-4f2c-a6c2-1425b4d21252"
   },
   "outputs": [
    {
     "name": "stdout",
     "output_type": "stream",
     "text": [
      "Graph named 'Drug Interactions Network' with 60 nodes and 30 edges\n",
      "Network density: 0.01694915254237288\n"
     ]
    }
   ],
   "source": [
    "# Give the graph a name\n",
    "G.name = 'Drug Interactions Network'\n",
    "\n",
    "# Obtain general information of graph\n",
    "print(nx.info(G))\n",
    "\n",
    "# Get graph density\n",
    "density = nx.density(G)\n",
    "print(\"Network density:\", density)"
   ]
  },
  {
   "cell_type": "code",
   "execution_count": 13,
   "metadata": {
    "colab": {
     "base_uri": "https://localhost:8080/",
     "height": 1000
    },
    "id": "THHt-zFgRIKa",
    "outputId": "4577315d-cae2-4bbb-ea93-1c65f2c9a8fe"
   },
   "outputs": [
    {
     "data": {
      "image/png": "[encoded data removed]",
      "text/plain": [
       "<Figure size 1080x1440 with 1 Axes>"
      ]
     },
     "metadata": {},
     "output_type": "display_data"
    }
   ],
   "source": [
    "figure(figsize=(15, 20))\n",
    "pos = nx.spring_layout(G, k=10)  # For better example looking\n",
    "nx.draw(G, pos, with_labels=True)\n",
    "labels = {e: G.edges[e]['interaction_group_score'] for e in G.edges}\n",
    "nx.draw_networkx_edge_labels(G, pos, edge_labels=labels)\n",
    "plt.show()"
   ]
  },
  {
   "cell_type": "code",
   "execution_count": 14,
   "metadata": {
    "id": "yr2ilSvnRIKa"
   },
   "outputs": [],
   "source": [
    "Newdf2 = pd.read_csv('curated_gene_disease_associations.tsv', sep = '\\t')"
   ]
  },
  {
   "cell_type": "code",
   "execution_count": 15,
   "metadata": {
    "colab": {
     "base_uri": "https://localhost:8080/",
     "height": 644
    },
    "id": "M4mEfxcCRIKa",
    "outputId": "f23daa1e-2b15-479d-d7c0-0e98d99b3a93"
   },
   "outputs": [
    {
     "data": {
      "text/html": [
       "<div>\n",
       "<style scoped>\n",
       "    .dataframe tbody tr th:only-of-type {\n",
       "        vertical-align: middle;\n",
       "    }\n",
       "\n",
       "    .dataframe tbody tr th {\n",
       "        vertical-align: top;\n",
       "    }\n",
       "\n",
       "    .dataframe thead th {\n",
       "        text-align: right;\n",
       "    }\n",
       "</style>\n",
       "<table border=\"1\" class=\"dataframe\">\n",
       "  <thead>\n",
       "    <tr style=\"text-align: right;\">\n",
       "      <th></th>\n",
       "      <th>geneId</th>\n",
       "      <th>geneSymbol</th>\n",
       "      <th>DSI</th>\n",
       "      <th>DPI</th>\n",
       "      <th>diseaseId</th>\n",
       "      <th>diseaseName</th>\n",
       "      <th>diseaseType</th>\n",
       "      <th>diseaseClass</th>\n",
       "      <th>diseaseSemanticType</th>\n",
       "      <th>score</th>\n",
       "      <th>EI</th>\n",
       "      <th>YearInitial</th>\n",
       "      <th>YearFinal</th>\n",
       "      <th>NofPmids</th>\n",
       "      <th>NofSnps</th>\n",
       "      <th>source</th>\n",
       "    </tr>\n",
       "  </thead>\n",
       "  <tbody>\n",
       "    <tr>\n",
       "      <th>0</th>\n",
       "      <td>1</td>\n",
       "      <td>A1BG</td>\n",
       "      <td>0.700</td>\n",
       "      <td>0.538</td>\n",
       "      <td>C0019209</td>\n",
       "      <td>Hepatomegaly</td>\n",
       "      <td>phenotype</td>\n",
       "      <td>C23;C06</td>\n",
       "      <td>Finding</td>\n",
       "      <td>0.30</td>\n",
       "      <td>1.000</td>\n",
       "      <td>2017.0</td>\n",
       "      <td>2017.0</td>\n",
       "      <td>1</td>\n",
       "      <td>0</td>\n",
       "      <td>CTD_human</td>\n",
       "    </tr>\n",
       "    <tr>\n",
       "      <th>1</th>\n",
       "      <td>1</td>\n",
       "      <td>A1BG</td>\n",
       "      <td>0.700</td>\n",
       "      <td>0.538</td>\n",
       "      <td>C0036341</td>\n",
       "      <td>Schizophrenia</td>\n",
       "      <td>disease</td>\n",
       "      <td>F03</td>\n",
       "      <td>Mental or Behavioral Dysfunction</td>\n",
       "      <td>0.30</td>\n",
       "      <td>1.000</td>\n",
       "      <td>2015.0</td>\n",
       "      <td>2015.0</td>\n",
       "      <td>1</td>\n",
       "      <td>0</td>\n",
       "      <td>CTD_human</td>\n",
       "    </tr>\n",
       "    <tr>\n",
       "      <th>2</th>\n",
       "      <td>2</td>\n",
       "      <td>A2M</td>\n",
       "      <td>0.529</td>\n",
       "      <td>0.769</td>\n",
       "      <td>C0002395</td>\n",
       "      <td>Alzheimer's Disease</td>\n",
       "      <td>disease</td>\n",
       "      <td>C10;F03</td>\n",
       "      <td>Disease or Syndrome</td>\n",
       "      <td>0.50</td>\n",
       "      <td>0.769</td>\n",
       "      <td>1998.0</td>\n",
       "      <td>2018.0</td>\n",
       "      <td>3</td>\n",
       "      <td>0</td>\n",
       "      <td>CTD_human</td>\n",
       "    </tr>\n",
       "    <tr>\n",
       "      <th>3</th>\n",
       "      <td>2</td>\n",
       "      <td>A2M</td>\n",
       "      <td>0.529</td>\n",
       "      <td>0.769</td>\n",
       "      <td>C0007102</td>\n",
       "      <td>Malignant tumor of colon</td>\n",
       "      <td>disease</td>\n",
       "      <td>C06;C04</td>\n",
       "      <td>Neoplastic Process</td>\n",
       "      <td>0.31</td>\n",
       "      <td>1.000</td>\n",
       "      <td>2004.0</td>\n",
       "      <td>2019.0</td>\n",
       "      <td>1</td>\n",
       "      <td>0</td>\n",
       "      <td>CTD_human</td>\n",
       "    </tr>\n",
       "    <tr>\n",
       "      <th>4</th>\n",
       "      <td>2</td>\n",
       "      <td>A2M</td>\n",
       "      <td>0.529</td>\n",
       "      <td>0.769</td>\n",
       "      <td>C0009375</td>\n",
       "      <td>Colonic Neoplasms</td>\n",
       "      <td>group</td>\n",
       "      <td>C06;C04</td>\n",
       "      <td>Neoplastic Process</td>\n",
       "      <td>0.30</td>\n",
       "      <td>1.000</td>\n",
       "      <td>2004.0</td>\n",
       "      <td>2004.0</td>\n",
       "      <td>1</td>\n",
       "      <td>0</td>\n",
       "      <td>CTD_human</td>\n",
       "    </tr>\n",
       "    <tr>\n",
       "      <th>...</th>\n",
       "      <td>...</td>\n",
       "      <td>...</td>\n",
       "      <td>...</td>\n",
       "      <td>...</td>\n",
       "      <td>...</td>\n",
       "      <td>...</td>\n",
       "      <td>...</td>\n",
       "      <td>...</td>\n",
       "      <td>...</td>\n",
       "      <td>...</td>\n",
       "      <td>...</td>\n",
       "      <td>...</td>\n",
       "      <td>...</td>\n",
       "      <td>...</td>\n",
       "      <td>...</td>\n",
       "      <td>...</td>\n",
       "    </tr>\n",
       "    <tr>\n",
       "      <th>84033</th>\n",
       "      <td>109580095</td>\n",
       "      <td>HBB-LCR</td>\n",
       "      <td>0.743</td>\n",
       "      <td>0.115</td>\n",
       "      <td>C0002875</td>\n",
       "      <td>Cooley's anemia</td>\n",
       "      <td>disease</td>\n",
       "      <td>C16;C15</td>\n",
       "      <td>Disease or Syndrome</td>\n",
       "      <td>0.30</td>\n",
       "      <td>NaN</td>\n",
       "      <td>NaN</td>\n",
       "      <td>NaN</td>\n",
       "      <td>0</td>\n",
       "      <td>0</td>\n",
       "      <td>CTD_human</td>\n",
       "    </tr>\n",
       "    <tr>\n",
       "      <th>84034</th>\n",
       "      <td>109580095</td>\n",
       "      <td>HBB-LCR</td>\n",
       "      <td>0.743</td>\n",
       "      <td>0.115</td>\n",
       "      <td>C0005283</td>\n",
       "      <td>beta Thalassemia</td>\n",
       "      <td>disease</td>\n",
       "      <td>C16;C15</td>\n",
       "      <td>Disease or Syndrome</td>\n",
       "      <td>0.30</td>\n",
       "      <td>NaN</td>\n",
       "      <td>NaN</td>\n",
       "      <td>NaN</td>\n",
       "      <td>0</td>\n",
       "      <td>0</td>\n",
       "      <td>CTD_human</td>\n",
       "    </tr>\n",
       "    <tr>\n",
       "      <th>84035</th>\n",
       "      <td>109580095</td>\n",
       "      <td>HBB-LCR</td>\n",
       "      <td>0.743</td>\n",
       "      <td>0.115</td>\n",
       "      <td>C0019025</td>\n",
       "      <td>Hemoglobin F Disease</td>\n",
       "      <td>disease</td>\n",
       "      <td>C16;C15</td>\n",
       "      <td>Disease or Syndrome</td>\n",
       "      <td>0.30</td>\n",
       "      <td>NaN</td>\n",
       "      <td>NaN</td>\n",
       "      <td>NaN</td>\n",
       "      <td>0</td>\n",
       "      <td>0</td>\n",
       "      <td>CTD_human</td>\n",
       "    </tr>\n",
       "    <tr>\n",
       "      <th>84036</th>\n",
       "      <td>109580095</td>\n",
       "      <td>HBB-LCR</td>\n",
       "      <td>0.743</td>\n",
       "      <td>0.115</td>\n",
       "      <td>C0085578</td>\n",
       "      <td>Thalassemia Minor</td>\n",
       "      <td>disease</td>\n",
       "      <td>C16;C15</td>\n",
       "      <td>Disease or Syndrome</td>\n",
       "      <td>0.30</td>\n",
       "      <td>NaN</td>\n",
       "      <td>NaN</td>\n",
       "      <td>NaN</td>\n",
       "      <td>0</td>\n",
       "      <td>0</td>\n",
       "      <td>CTD_human</td>\n",
       "    </tr>\n",
       "    <tr>\n",
       "      <th>84037</th>\n",
       "      <td>109580095</td>\n",
       "      <td>HBB-LCR</td>\n",
       "      <td>0.743</td>\n",
       "      <td>0.115</td>\n",
       "      <td>C0271979</td>\n",
       "      <td>Thalassemia Intermedia</td>\n",
       "      <td>disease</td>\n",
       "      <td>C16;C15</td>\n",
       "      <td>Disease or Syndrome</td>\n",
       "      <td>0.30</td>\n",
       "      <td>NaN</td>\n",
       "      <td>NaN</td>\n",
       "      <td>NaN</td>\n",
       "      <td>0</td>\n",
       "      <td>0</td>\n",
       "      <td>CTD_human</td>\n",
       "    </tr>\n",
       "  </tbody>\n",
       "</table>\n",
       "<p>84038 rows × 16 columns</p>\n",
       "</div>"
      ],
      "text/plain": [
       "          geneId geneSymbol    DSI    DPI diseaseId               diseaseName  \\\n",
       "0              1       A1BG  0.700  0.538  C0019209              Hepatomegaly   \n",
       "1              1       A1BG  0.700  0.538  C0036341             Schizophrenia   \n",
       "2              2        A2M  0.529  0.769  C0002395       Alzheimer's Disease   \n",
       "3              2        A2M  0.529  0.769  C0007102  Malignant tumor of colon   \n",
       "4              2        A2M  0.529  0.769  C0009375         Colonic Neoplasms   \n",
       "...          ...        ...    ...    ...       ...                       ...   \n",
       "84033  109580095    HBB-LCR  0.743  0.115  C0002875           Cooley's anemia   \n",
       "84034  109580095    HBB-LCR  0.743  0.115  C0005283          beta Thalassemia   \n",
       "84035  109580095    HBB-LCR  0.743  0.115  C0019025      Hemoglobin F Disease   \n",
       "84036  109580095    HBB-LCR  0.743  0.115  C0085578         Thalassemia Minor   \n",
       "84037  109580095    HBB-LCR  0.743  0.115  C0271979    Thalassemia Intermedia   \n",
       "\n",
       "      diseaseType diseaseClass               diseaseSemanticType  score  \\\n",
       "0       phenotype      C23;C06                           Finding   0.30   \n",
       "1         disease          F03  Mental or Behavioral Dysfunction   0.30   \n",
       "2         disease      C10;F03               Disease or Syndrome   0.50   \n",
       "3         disease      C06;C04                Neoplastic Process   0.31   \n",
       "4           group      C06;C04                Neoplastic Process   0.30   \n",
       "...           ...          ...                               ...    ...   \n",
       "84033     disease      C16;C15               Disease or Syndrome   0.30   \n",
       "84034     disease      C16;C15               Disease or Syndrome   0.30   \n",
       "84035     disease      C16;C15               Disease or Syndrome   0.30   \n",
       "84036     disease      C16;C15               Disease or Syndrome   0.30   \n",
       "84037     disease      C16;C15               Disease or Syndrome   0.30   \n",
       "\n",
       "          EI  YearInitial  YearFinal  NofPmids  NofSnps     source  \n",
       "0      1.000       2017.0     2017.0         1        0  CTD_human  \n",
       "1      1.000       2015.0     2015.0         1        0  CTD_human  \n",
       "2      0.769       1998.0     2018.0         3        0  CTD_human  \n",
       "3      1.000       2004.0     2019.0         1        0  CTD_human  \n",
       "4      1.000       2004.0     2004.0         1        0  CTD_human  \n",
       "...      ...          ...        ...       ...      ...        ...  \n",
       "84033    NaN          NaN        NaN         0        0  CTD_human  \n",
       "84034    NaN          NaN        NaN         0        0  CTD_human  \n",
       "84035    NaN          NaN        NaN         0        0  CTD_human  \n",
       "84036    NaN          NaN        NaN         0        0  CTD_human  \n",
       "84037    NaN          NaN        NaN         0        0  CTD_human  \n",
       "\n",
       "[84038 rows x 16 columns]"
      ]
     },
     "execution_count": 15,
     "metadata": {},
     "output_type": "execute_result"
    }
   ],
   "source": [
    "Newdf2"
   ]
  },
  {
   "cell_type": "code",
   "execution_count": 16,
   "metadata": {
    "colab": {
     "base_uri": "https://localhost:8080/",
     "height": 423
    },
    "id": "D8wFMN1LRIKa",
    "outputId": "e50168a8-ced1-4c5d-8eb0-ee6b77e936df"
   },
   "outputs": [
    {
     "data": {
      "text/html": [
       "<div>\n",
       "<style scoped>\n",
       "    .dataframe tbody tr th:only-of-type {\n",
       "        vertical-align: middle;\n",
       "    }\n",
       "\n",
       "    .dataframe tbody tr th {\n",
       "        vertical-align: top;\n",
       "    }\n",
       "\n",
       "    .dataframe thead th {\n",
       "        text-align: right;\n",
       "    }\n",
       "</style>\n",
       "<table border=\"1\" class=\"dataframe\">\n",
       "  <thead>\n",
       "    <tr style=\"text-align: right;\">\n",
       "      <th></th>\n",
       "      <th>geneSymbol</th>\n",
       "      <th>diseaseName</th>\n",
       "      <th>score</th>\n",
       "    </tr>\n",
       "  </thead>\n",
       "  <tbody>\n",
       "    <tr>\n",
       "      <th>0</th>\n",
       "      <td>A1BG</td>\n",
       "      <td>Hepatomegaly</td>\n",
       "      <td>0.30</td>\n",
       "    </tr>\n",
       "    <tr>\n",
       "      <th>1</th>\n",
       "      <td>A1BG</td>\n",
       "      <td>Schizophrenia</td>\n",
       "      <td>0.30</td>\n",
       "    </tr>\n",
       "    <tr>\n",
       "      <th>2</th>\n",
       "      <td>A2M</td>\n",
       "      <td>Alzheimer's Disease</td>\n",
       "      <td>0.50</td>\n",
       "    </tr>\n",
       "    <tr>\n",
       "      <th>3</th>\n",
       "      <td>A2M</td>\n",
       "      <td>Malignant tumor of colon</td>\n",
       "      <td>0.31</td>\n",
       "    </tr>\n",
       "    <tr>\n",
       "      <th>4</th>\n",
       "      <td>A2M</td>\n",
       "      <td>Colonic Neoplasms</td>\n",
       "      <td>0.30</td>\n",
       "    </tr>\n",
       "    <tr>\n",
       "      <th>...</th>\n",
       "      <td>...</td>\n",
       "      <td>...</td>\n",
       "      <td>...</td>\n",
       "    </tr>\n",
       "    <tr>\n",
       "      <th>84033</th>\n",
       "      <td>HBB-LCR</td>\n",
       "      <td>Cooley's anemia</td>\n",
       "      <td>0.30</td>\n",
       "    </tr>\n",
       "    <tr>\n",
       "      <th>84034</th>\n",
       "      <td>HBB-LCR</td>\n",
       "      <td>beta Thalassemia</td>\n",
       "      <td>0.30</td>\n",
       "    </tr>\n",
       "    <tr>\n",
       "      <th>84035</th>\n",
       "      <td>HBB-LCR</td>\n",
       "      <td>Hemoglobin F Disease</td>\n",
       "      <td>0.30</td>\n",
       "    </tr>\n",
       "    <tr>\n",
       "      <th>84036</th>\n",
       "      <td>HBB-LCR</td>\n",
       "      <td>Thalassemia Minor</td>\n",
       "      <td>0.30</td>\n",
       "    </tr>\n",
       "    <tr>\n",
       "      <th>84037</th>\n",
       "      <td>HBB-LCR</td>\n",
       "      <td>Thalassemia Intermedia</td>\n",
       "      <td>0.30</td>\n",
       "    </tr>\n",
       "  </tbody>\n",
       "</table>\n",
       "<p>84038 rows × 3 columns</p>\n",
       "</div>"
      ],
      "text/plain": [
       "      geneSymbol               diseaseName  score\n",
       "0           A1BG              Hepatomegaly   0.30\n",
       "1           A1BG             Schizophrenia   0.30\n",
       "2            A2M       Alzheimer's Disease   0.50\n",
       "3            A2M  Malignant tumor of colon   0.31\n",
       "4            A2M         Colonic Neoplasms   0.30\n",
       "...          ...                       ...    ...\n",
       "84033    HBB-LCR           Cooley's anemia   0.30\n",
       "84034    HBB-LCR          beta Thalassemia   0.30\n",
       "84035    HBB-LCR      Hemoglobin F Disease   0.30\n",
       "84036    HBB-LCR         Thalassemia Minor   0.30\n",
       "84037    HBB-LCR    Thalassemia Intermedia   0.30\n",
       "\n",
       "[84038 rows x 3 columns]"
      ]
     },
     "execution_count": 16,
     "metadata": {},
     "output_type": "execute_result"
    }
   ],
   "source": [
    "newDF2 = Newdf2[['geneSymbol','diseaseName','score']]\n",
    "newDF2"
   ]
  },
  {
   "cell_type": "code",
   "execution_count": 17,
   "metadata": {
    "colab": {
     "base_uri": "https://localhost:8080/"
    },
    "id": "6XfqogKwRIKb",
    "outputId": "a0dd4599-ccb6-44f9-fa92-34f93d7610e0"
   },
   "outputs": [
    {
     "data": {
      "text/plain": [
       "0"
      ]
     },
     "execution_count": 17,
     "metadata": {},
     "output_type": "execute_result"
    }
   ],
   "source": [
    "newDF2['geneSymbol'].isnull().sum()"
   ]
  },
  {
   "cell_type": "code",
   "execution_count": 18,
   "metadata": {
    "colab": {
     "base_uri": "https://localhost:8080/",
     "height": 423
    },
    "id": "J5weJ9BHRIKb",
    "outputId": "2eccfce2-5571-4fab-e12d-fa7cc4e8e60c"
   },
   "outputs": [
    {
     "data": {
      "text/html": [
       "<div>\n",
       "<style scoped>\n",
       "    .dataframe tbody tr th:only-of-type {\n",
       "        vertical-align: middle;\n",
       "    }\n",
       "\n",
       "    .dataframe tbody tr th {\n",
       "        vertical-align: top;\n",
       "    }\n",
       "\n",
       "    .dataframe thead th {\n",
       "        text-align: right;\n",
       "    }\n",
       "</style>\n",
       "<table border=\"1\" class=\"dataframe\">\n",
       "  <thead>\n",
       "    <tr style=\"text-align: right;\">\n",
       "      <th></th>\n",
       "      <th>geneSymbol</th>\n",
       "      <th>diseaseName</th>\n",
       "      <th>score</th>\n",
       "    </tr>\n",
       "  </thead>\n",
       "  <tbody>\n",
       "    <tr>\n",
       "      <th>0</th>\n",
       "      <td>A1BG</td>\n",
       "      <td>Hepatomegaly</td>\n",
       "      <td>0.30</td>\n",
       "    </tr>\n",
       "    <tr>\n",
       "      <th>1</th>\n",
       "      <td>A1BG</td>\n",
       "      <td>Schizophrenia</td>\n",
       "      <td>0.30</td>\n",
       "    </tr>\n",
       "    <tr>\n",
       "      <th>2</th>\n",
       "      <td>A2M</td>\n",
       "      <td>Alzheimer's Disease</td>\n",
       "      <td>0.50</td>\n",
       "    </tr>\n",
       "    <tr>\n",
       "      <th>3</th>\n",
       "      <td>A2M</td>\n",
       "      <td>Malignant tumor of colon</td>\n",
       "      <td>0.31</td>\n",
       "    </tr>\n",
       "    <tr>\n",
       "      <th>4</th>\n",
       "      <td>A2M</td>\n",
       "      <td>Colonic Neoplasms</td>\n",
       "      <td>0.30</td>\n",
       "    </tr>\n",
       "    <tr>\n",
       "      <th>...</th>\n",
       "      <td>...</td>\n",
       "      <td>...</td>\n",
       "      <td>...</td>\n",
       "    </tr>\n",
       "    <tr>\n",
       "      <th>84033</th>\n",
       "      <td>HBB-LCR</td>\n",
       "      <td>Cooley's anemia</td>\n",
       "      <td>0.30</td>\n",
       "    </tr>\n",
       "    <tr>\n",
       "      <th>84034</th>\n",
       "      <td>HBB-LCR</td>\n",
       "      <td>beta Thalassemia</td>\n",
       "      <td>0.30</td>\n",
       "    </tr>\n",
       "    <tr>\n",
       "      <th>84035</th>\n",
       "      <td>HBB-LCR</td>\n",
       "      <td>Hemoglobin F Disease</td>\n",
       "      <td>0.30</td>\n",
       "    </tr>\n",
       "    <tr>\n",
       "      <th>84036</th>\n",
       "      <td>HBB-LCR</td>\n",
       "      <td>Thalassemia Minor</td>\n",
       "      <td>0.30</td>\n",
       "    </tr>\n",
       "    <tr>\n",
       "      <th>84037</th>\n",
       "      <td>HBB-LCR</td>\n",
       "      <td>Thalassemia Intermedia</td>\n",
       "      <td>0.30</td>\n",
       "    </tr>\n",
       "  </tbody>\n",
       "</table>\n",
       "<p>84038 rows × 3 columns</p>\n",
       "</div>"
      ],
      "text/plain": [
       "      geneSymbol               diseaseName  score\n",
       "0           A1BG              Hepatomegaly   0.30\n",
       "1           A1BG             Schizophrenia   0.30\n",
       "2            A2M       Alzheimer's Disease   0.50\n",
       "3            A2M  Malignant tumor of colon   0.31\n",
       "4            A2M         Colonic Neoplasms   0.30\n",
       "...          ...                       ...    ...\n",
       "84033    HBB-LCR           Cooley's anemia   0.30\n",
       "84034    HBB-LCR          beta Thalassemia   0.30\n",
       "84035    HBB-LCR      Hemoglobin F Disease   0.30\n",
       "84036    HBB-LCR         Thalassemia Minor   0.30\n",
       "84037    HBB-LCR    Thalassemia Intermedia   0.30\n",
       "\n",
       "[84038 rows x 3 columns]"
      ]
     },
     "execution_count": 18,
     "metadata": {},
     "output_type": "execute_result"
    }
   ],
   "source": [
    "dataf = newDF2.dropna()\n",
    "dataf"
   ]
  },
  {
   "cell_type": "code",
   "execution_count": 19,
   "metadata": {
    "colab": {
     "base_uri": "https://localhost:8080/",
     "height": 423
    },
    "id": "3pAHZtxcRIKb",
    "outputId": "3a24c587-64c1-4a75-a17d-6db8173d88df"
   },
   "outputs": [
    {
     "data": {
      "text/html": [
       "<div>\n",
       "<style scoped>\n",
       "    .dataframe tbody tr th:only-of-type {\n",
       "        vertical-align: middle;\n",
       "    }\n",
       "\n",
       "    .dataframe tbody tr th {\n",
       "        vertical-align: top;\n",
       "    }\n",
       "\n",
       "    .dataframe thead th {\n",
       "        text-align: right;\n",
       "    }\n",
       "</style>\n",
       "<table border=\"1\" class=\"dataframe\">\n",
       "  <thead>\n",
       "    <tr style=\"text-align: right;\">\n",
       "      <th></th>\n",
       "      <th>geneSymbol</th>\n",
       "      <th>diseaseName</th>\n",
       "      <th>score</th>\n",
       "    </tr>\n",
       "  </thead>\n",
       "  <tbody>\n",
       "    <tr>\n",
       "      <th>0</th>\n",
       "      <td>A1BG</td>\n",
       "      <td>Hepatomegaly</td>\n",
       "      <td>0.30</td>\n",
       "    </tr>\n",
       "    <tr>\n",
       "      <th>1</th>\n",
       "      <td>A1BG</td>\n",
       "      <td>Schizophrenia</td>\n",
       "      <td>0.30</td>\n",
       "    </tr>\n",
       "    <tr>\n",
       "      <th>27</th>\n",
       "      <td>A2M</td>\n",
       "      <td>alpha-2-Macroglobulin Deficiency</td>\n",
       "      <td>0.31</td>\n",
       "    </tr>\n",
       "    <tr>\n",
       "      <th>26</th>\n",
       "      <td>A2M</td>\n",
       "      <td>Acute kidney injury</td>\n",
       "      <td>0.30</td>\n",
       "    </tr>\n",
       "    <tr>\n",
       "      <th>25</th>\n",
       "      <td>A2M</td>\n",
       "      <td>Liver carcinoma</td>\n",
       "      <td>0.51</td>\n",
       "    </tr>\n",
       "    <tr>\n",
       "      <th>...</th>\n",
       "      <td>...</td>\n",
       "      <td>...</td>\n",
       "      <td>...</td>\n",
       "    </tr>\n",
       "    <tr>\n",
       "      <th>80925</th>\n",
       "      <td>ZSWIM9</td>\n",
       "      <td>Sclerocystic Ovaries</td>\n",
       "      <td>0.30</td>\n",
       "    </tr>\n",
       "    <tr>\n",
       "      <th>59639</th>\n",
       "      <td>ZW10</td>\n",
       "      <td>Osteosarcoma</td>\n",
       "      <td>0.31</td>\n",
       "    </tr>\n",
       "    <tr>\n",
       "      <th>71089</th>\n",
       "      <td>ZWILCH</td>\n",
       "      <td>Weight Gain</td>\n",
       "      <td>0.30</td>\n",
       "    </tr>\n",
       "    <tr>\n",
       "      <th>64420</th>\n",
       "      <td>ZWINT</td>\n",
       "      <td>Liver carcinoma</td>\n",
       "      <td>0.31</td>\n",
       "    </tr>\n",
       "    <tr>\n",
       "      <th>67121</th>\n",
       "      <td>ZZZ3</td>\n",
       "      <td>Colorectal Carcinoma</td>\n",
       "      <td>0.30</td>\n",
       "    </tr>\n",
       "  </tbody>\n",
       "</table>\n",
       "<p>84038 rows × 3 columns</p>\n",
       "</div>"
      ],
      "text/plain": [
       "      geneSymbol                       diseaseName  score\n",
       "0           A1BG                      Hepatomegaly   0.30\n",
       "1           A1BG                     Schizophrenia   0.30\n",
       "27           A2M  alpha-2-Macroglobulin Deficiency   0.31\n",
       "26           A2M               Acute kidney injury   0.30\n",
       "25           A2M                   Liver carcinoma   0.51\n",
       "...          ...                               ...    ...\n",
       "80925     ZSWIM9              Sclerocystic Ovaries   0.30\n",
       "59639       ZW10                      Osteosarcoma   0.31\n",
       "71089     ZWILCH                       Weight Gain   0.30\n",
       "64420      ZWINT                   Liver carcinoma   0.31\n",
       "67121       ZZZ3              Colorectal Carcinoma   0.30\n",
       "\n",
       "[84038 rows x 3 columns]"
      ]
     },
     "execution_count": 19,
     "metadata": {},
     "output_type": "execute_result"
    }
   ],
   "source": [
    "dataf.sort_values('geneSymbol')"
   ]
  },
  {
   "cell_type": "code",
   "execution_count": 20,
   "metadata": {
    "id": "scrEZ_jsRIKb"
   },
   "outputs": [],
   "source": [
    "G = nx.from_pandas_edgelist(dataf, source='geneSymbol', target='diseaseName',edge_attr= 'score')"
   ]
  },
  {
   "cell_type": "code",
   "execution_count": 21,
   "metadata": {
    "colab": {
     "base_uri": "https://localhost:8080/"
    },
    "id": "WHtp8KxiRIKc",
    "outputId": "682172fa-2a26-4c4c-9308-4c5aa6799df8"
   },
   "outputs": [
    {
     "name": "stdout",
     "output_type": "stream",
     "text": [
      "Graph named 'Disease Interactions Network' with 20884 nodes and 84038 edges\n",
      "Network density: 0.00038538883692007997\n"
     ]
    }
   ],
   "source": [
    "# Give the graph a name\n",
    "G.name = 'Disease Interactions Network'\n",
    "\n",
    "# Obtain general information of graph\n",
    "print(nx.info(G))\n",
    "\n",
    "# Get graph density\n",
    "density = nx.density(G)\n",
    "print(\"Network density:\", density)"
   ]
  },
  {
   "cell_type": "code",
   "execution_count": 22,
   "metadata": {
    "id": "AInF7XYQRIKc"
   },
   "outputs": [],
   "source": [
    "#figure(figsize=(15, 20))\n",
    "#pos = nx.spring_layout(G, k=10)  # For better example looking\n",
    "#nx.draw(G, pos, with_labels=True)\n",
    "#labels = {e: G.edges[e]['score'] for e in G.edges}\n",
    "#nx.draw_networkx_edge_labels(G, pos, edge_labels=labels)\n",
    "#plt.show()"
   ]
  },
  {
   "cell_type": "code",
   "execution_count": 23,
   "metadata": {
    "colab": {
     "base_uri": "https://localhost:8080/",
     "height": 423
    },
    "id": "Btf4x9a_RIKc",
    "outputId": "35852fe8-b6f6-4cd5-ced4-5ff5e9e9fb73"
   },
   "outputs": [
    {
     "data": {
      "text/html": [
       "<div>\n",
       "<style scoped>\n",
       "    .dataframe tbody tr th:only-of-type {\n",
       "        vertical-align: middle;\n",
       "    }\n",
       "\n",
       "    .dataframe tbody tr th {\n",
       "        vertical-align: top;\n",
       "    }\n",
       "\n",
       "    .dataframe thead th {\n",
       "        text-align: right;\n",
       "    }\n",
       "</style>\n",
       "<table border=\"1\" class=\"dataframe\">\n",
       "  <thead>\n",
       "    <tr style=\"text-align: right;\">\n",
       "      <th></th>\n",
       "      <th>gene_name</th>\n",
       "      <th>diseaseName</th>\n",
       "      <th>score</th>\n",
       "    </tr>\n",
       "  </thead>\n",
       "  <tbody>\n",
       "    <tr>\n",
       "      <th>0</th>\n",
       "      <td>A1BG</td>\n",
       "      <td>Hepatomegaly</td>\n",
       "      <td>0.30</td>\n",
       "    </tr>\n",
       "    <tr>\n",
       "      <th>1</th>\n",
       "      <td>A1BG</td>\n",
       "      <td>Schizophrenia</td>\n",
       "      <td>0.30</td>\n",
       "    </tr>\n",
       "    <tr>\n",
       "      <th>2</th>\n",
       "      <td>A2M</td>\n",
       "      <td>Alzheimer's Disease</td>\n",
       "      <td>0.50</td>\n",
       "    </tr>\n",
       "    <tr>\n",
       "      <th>3</th>\n",
       "      <td>A2M</td>\n",
       "      <td>Malignant tumor of colon</td>\n",
       "      <td>0.31</td>\n",
       "    </tr>\n",
       "    <tr>\n",
       "      <th>4</th>\n",
       "      <td>A2M</td>\n",
       "      <td>Colonic Neoplasms</td>\n",
       "      <td>0.30</td>\n",
       "    </tr>\n",
       "    <tr>\n",
       "      <th>...</th>\n",
       "      <td>...</td>\n",
       "      <td>...</td>\n",
       "      <td>...</td>\n",
       "    </tr>\n",
       "    <tr>\n",
       "      <th>84033</th>\n",
       "      <td>HBB-LCR</td>\n",
       "      <td>Cooley's anemia</td>\n",
       "      <td>0.30</td>\n",
       "    </tr>\n",
       "    <tr>\n",
       "      <th>84034</th>\n",
       "      <td>HBB-LCR</td>\n",
       "      <td>beta Thalassemia</td>\n",
       "      <td>0.30</td>\n",
       "    </tr>\n",
       "    <tr>\n",
       "      <th>84035</th>\n",
       "      <td>HBB-LCR</td>\n",
       "      <td>Hemoglobin F Disease</td>\n",
       "      <td>0.30</td>\n",
       "    </tr>\n",
       "    <tr>\n",
       "      <th>84036</th>\n",
       "      <td>HBB-LCR</td>\n",
       "      <td>Thalassemia Minor</td>\n",
       "      <td>0.30</td>\n",
       "    </tr>\n",
       "    <tr>\n",
       "      <th>84037</th>\n",
       "      <td>HBB-LCR</td>\n",
       "      <td>Thalassemia Intermedia</td>\n",
       "      <td>0.30</td>\n",
       "    </tr>\n",
       "  </tbody>\n",
       "</table>\n",
       "<p>84038 rows × 3 columns</p>\n",
       "</div>"
      ],
      "text/plain": [
       "      gene_name               diseaseName  score\n",
       "0          A1BG              Hepatomegaly   0.30\n",
       "1          A1BG             Schizophrenia   0.30\n",
       "2           A2M       Alzheimer's Disease   0.50\n",
       "3           A2M  Malignant tumor of colon   0.31\n",
       "4           A2M         Colonic Neoplasms   0.30\n",
       "...         ...                       ...    ...\n",
       "84033   HBB-LCR           Cooley's anemia   0.30\n",
       "84034   HBB-LCR          beta Thalassemia   0.30\n",
       "84035   HBB-LCR      Hemoglobin F Disease   0.30\n",
       "84036   HBB-LCR         Thalassemia Minor   0.30\n",
       "84037   HBB-LCR    Thalassemia Intermedia   0.30\n",
       "\n",
       "[84038 rows x 3 columns]"
      ]
     },
     "execution_count": 23,
     "metadata": {},
     "output_type": "execute_result"
    }
   ],
   "source": [
    "dataf.rename(columns = {'geneSymbol':'gene_name'}, inplace = True)\n",
    "dataf"
   ]
  },
  {
   "cell_type": "code",
   "execution_count": 24,
   "metadata": {
    "id": "IoVbpEDiRIKc"
   },
   "outputs": [],
   "source": [
    "Finaldf=pd.merge(dataframe, dataf, on = \"gene_name\")"
   ]
  },
  {
   "cell_type": "code",
   "execution_count": 25,
   "metadata": {
    "colab": {
     "base_uri": "https://localhost:8080/",
     "height": 423
    },
    "id": "8NlG2Pq6RIKd",
    "outputId": "de0fd05e-b882-4787-d72e-b841cb57188f"
   },
   "outputs": [
    {
     "data": {
      "text/html": [
       "<div>\n",
       "<style scoped>\n",
       "    .dataframe tbody tr th:only-of-type {\n",
       "        vertical-align: middle;\n",
       "    }\n",
       "\n",
       "    .dataframe tbody tr th {\n",
       "        vertical-align: top;\n",
       "    }\n",
       "\n",
       "    .dataframe thead th {\n",
       "        text-align: right;\n",
       "    }\n",
       "</style>\n",
       "<table border=\"1\" class=\"dataframe\">\n",
       "  <thead>\n",
       "    <tr style=\"text-align: right;\">\n",
       "      <th></th>\n",
       "      <th>gene_name</th>\n",
       "      <th>drug_name</th>\n",
       "      <th>interaction_group_score</th>\n",
       "      <th>diseaseName</th>\n",
       "      <th>score</th>\n",
       "    </tr>\n",
       "  </thead>\n",
       "  <tbody>\n",
       "    <tr>\n",
       "      <th>0</th>\n",
       "      <td>VDR</td>\n",
       "      <td>NIFEKALANT</td>\n",
       "      <td>0.14</td>\n",
       "      <td>Osteoporosis, Age-Related</td>\n",
       "      <td>0.30</td>\n",
       "    </tr>\n",
       "    <tr>\n",
       "      <th>1</th>\n",
       "      <td>VDR</td>\n",
       "      <td>NIFEKALANT</td>\n",
       "      <td>0.14</td>\n",
       "      <td>Alopecia</td>\n",
       "      <td>0.50</td>\n",
       "    </tr>\n",
       "    <tr>\n",
       "      <th>2</th>\n",
       "      <td>VDR</td>\n",
       "      <td>NIFEKALANT</td>\n",
       "      <td>0.14</td>\n",
       "      <td>Bipolar Disorder</td>\n",
       "      <td>0.31</td>\n",
       "    </tr>\n",
       "    <tr>\n",
       "      <th>3</th>\n",
       "      <td>VDR</td>\n",
       "      <td>NIFEKALANT</td>\n",
       "      <td>0.14</td>\n",
       "      <td>Malignant neoplasm of breast</td>\n",
       "      <td>0.40</td>\n",
       "    </tr>\n",
       "    <tr>\n",
       "      <th>4</th>\n",
       "      <td>VDR</td>\n",
       "      <td>NIFEKALANT</td>\n",
       "      <td>0.14</td>\n",
       "      <td>Malignant Neoplasms</td>\n",
       "      <td>0.40</td>\n",
       "    </tr>\n",
       "    <tr>\n",
       "      <th>...</th>\n",
       "      <td>...</td>\n",
       "      <td>...</td>\n",
       "      <td>...</td>\n",
       "      <td>...</td>\n",
       "      <td>...</td>\n",
       "    </tr>\n",
       "    <tr>\n",
       "      <th>2019485</th>\n",
       "      <td>LNPEP</td>\n",
       "      <td>TOSEDOSTAT</td>\n",
       "      <td>3.35</td>\n",
       "      <td>Memory impairment</td>\n",
       "      <td>0.30</td>\n",
       "    </tr>\n",
       "    <tr>\n",
       "      <th>2019486</th>\n",
       "      <td>LNPEP</td>\n",
       "      <td>TOSEDOSTAT</td>\n",
       "      <td>3.35</td>\n",
       "      <td>Age-Related Memory Disorders</td>\n",
       "      <td>0.30</td>\n",
       "    </tr>\n",
       "    <tr>\n",
       "      <th>2019487</th>\n",
       "      <td>LNPEP</td>\n",
       "      <td>TOSEDOSTAT</td>\n",
       "      <td>3.35</td>\n",
       "      <td>Memory Disorder, Semantic</td>\n",
       "      <td>0.30</td>\n",
       "    </tr>\n",
       "    <tr>\n",
       "      <th>2019488</th>\n",
       "      <td>LNPEP</td>\n",
       "      <td>TOSEDOSTAT</td>\n",
       "      <td>3.35</td>\n",
       "      <td>Memory Disorder, Spatial</td>\n",
       "      <td>0.30</td>\n",
       "    </tr>\n",
       "    <tr>\n",
       "      <th>2019489</th>\n",
       "      <td>LNPEP</td>\n",
       "      <td>TOSEDOSTAT</td>\n",
       "      <td>3.35</td>\n",
       "      <td>Memory Loss</td>\n",
       "      <td>0.31</td>\n",
       "    </tr>\n",
       "  </tbody>\n",
       "</table>\n",
       "<p>2019490 rows × 5 columns</p>\n",
       "</div>"
      ],
      "text/plain": [
       "        gene_name   drug_name  interaction_group_score  \\\n",
       "0             VDR  NIFEKALANT                     0.14   \n",
       "1             VDR  NIFEKALANT                     0.14   \n",
       "2             VDR  NIFEKALANT                     0.14   \n",
       "3             VDR  NIFEKALANT                     0.14   \n",
       "4             VDR  NIFEKALANT                     0.14   \n",
       "...           ...         ...                      ...   \n",
       "2019485     LNPEP  TOSEDOSTAT                     3.35   \n",
       "2019486     LNPEP  TOSEDOSTAT                     3.35   \n",
       "2019487     LNPEP  TOSEDOSTAT                     3.35   \n",
       "2019488     LNPEP  TOSEDOSTAT                     3.35   \n",
       "2019489     LNPEP  TOSEDOSTAT                     3.35   \n",
       "\n",
       "                          diseaseName  score  \n",
       "0           Osteoporosis, Age-Related   0.30  \n",
       "1                            Alopecia   0.50  \n",
       "2                    Bipolar Disorder   0.31  \n",
       "3        Malignant neoplasm of breast   0.40  \n",
       "4                 Malignant Neoplasms   0.40  \n",
       "...                               ...    ...  \n",
       "2019485             Memory impairment   0.30  \n",
       "2019486  Age-Related Memory Disorders   0.30  \n",
       "2019487     Memory Disorder, Semantic   0.30  \n",
       "2019488      Memory Disorder, Spatial   0.30  \n",
       "2019489                   Memory Loss   0.31  \n",
       "\n",
       "[2019490 rows x 5 columns]"
      ]
     },
     "execution_count": 25,
     "metadata": {},
     "output_type": "execute_result"
    }
   ],
   "source": [
    "Finaldf"
   ]
  },
  {
   "cell_type": "code",
   "execution_count": 26,
   "metadata": {
    "colab": {
     "base_uri": "https://localhost:8080/",
     "height": 423
    },
    "id": "8vtMtKLpRIKd",
    "outputId": "77c626b0-f193-4c87-cdca-f3c4e7bf465a"
   },
   "outputs": [
    {
     "data": {
      "text/html": [
       "<div>\n",
       "<style scoped>\n",
       "    .dataframe tbody tr th:only-of-type {\n",
       "        vertical-align: middle;\n",
       "    }\n",
       "\n",
       "    .dataframe tbody tr th {\n",
       "        vertical-align: top;\n",
       "    }\n",
       "\n",
       "    .dataframe thead th {\n",
       "        text-align: right;\n",
       "    }\n",
       "</style>\n",
       "<table border=\"1\" class=\"dataframe\">\n",
       "  <thead>\n",
       "    <tr style=\"text-align: right;\">\n",
       "      <th></th>\n",
       "      <th>gene_name</th>\n",
       "      <th>drug_name</th>\n",
       "      <th>interaction_group_score</th>\n",
       "      <th>diseaseName</th>\n",
       "      <th>score</th>\n",
       "    </tr>\n",
       "  </thead>\n",
       "  <tbody>\n",
       "    <tr>\n",
       "      <th>2019376</th>\n",
       "      <td>A2M</td>\n",
       "      <td>THROMBIN</td>\n",
       "      <td>5.30</td>\n",
       "      <td>Malignant neoplasm of lung</td>\n",
       "      <td>0.30</td>\n",
       "    </tr>\n",
       "    <tr>\n",
       "      <th>2019385</th>\n",
       "      <td>A2M</td>\n",
       "      <td>THROMBIN</td>\n",
       "      <td>5.30</td>\n",
       "      <td>Acute kidney injury</td>\n",
       "      <td>0.30</td>\n",
       "    </tr>\n",
       "    <tr>\n",
       "      <th>2019384</th>\n",
       "      <td>A2M</td>\n",
       "      <td>THROMBIN</td>\n",
       "      <td>5.30</td>\n",
       "      <td>Liver carcinoma</td>\n",
       "      <td>0.51</td>\n",
       "    </tr>\n",
       "    <tr>\n",
       "      <th>2019383</th>\n",
       "      <td>A2M</td>\n",
       "      <td>THROMBIN</td>\n",
       "      <td>5.30</td>\n",
       "      <td>Acute Kidney Insufficiency</td>\n",
       "      <td>0.30</td>\n",
       "    </tr>\n",
       "    <tr>\n",
       "      <th>2019382</th>\n",
       "      <td>A2M</td>\n",
       "      <td>THROMBIN</td>\n",
       "      <td>5.30</td>\n",
       "      <td>Hepatic Form of Wilson Disease</td>\n",
       "      <td>0.30</td>\n",
       "    </tr>\n",
       "    <tr>\n",
       "      <th>...</th>\n",
       "      <td>...</td>\n",
       "      <td>...</td>\n",
       "      <td>...</td>\n",
       "      <td>...</td>\n",
       "      <td>...</td>\n",
       "    </tr>\n",
       "    <tr>\n",
       "      <th>2016598</th>\n",
       "      <td>ZNF804A</td>\n",
       "      <td>LITHIUM</td>\n",
       "      <td>2.77</td>\n",
       "      <td>Colorectal Carcinoma</td>\n",
       "      <td>0.30</td>\n",
       "    </tr>\n",
       "    <tr>\n",
       "      <th>2016597</th>\n",
       "      <td>ZNF804A</td>\n",
       "      <td>LITHIUM</td>\n",
       "      <td>2.77</td>\n",
       "      <td>Renal Cell Carcinoma</td>\n",
       "      <td>0.30</td>\n",
       "    </tr>\n",
       "    <tr>\n",
       "      <th>2016596</th>\n",
       "      <td>ZNF804A</td>\n",
       "      <td>LITHIUM</td>\n",
       "      <td>2.77</td>\n",
       "      <td>Bipolar Disorder</td>\n",
       "      <td>0.50</td>\n",
       "    </tr>\n",
       "    <tr>\n",
       "      <th>2016606</th>\n",
       "      <td>ZNF804A</td>\n",
       "      <td>LITHIUM</td>\n",
       "      <td>2.77</td>\n",
       "      <td>Substance-Related Disorders</td>\n",
       "      <td>0.30</td>\n",
       "    </tr>\n",
       "    <tr>\n",
       "      <th>2016602</th>\n",
       "      <td>ZNF804A</td>\n",
       "      <td>LITHIUM</td>\n",
       "      <td>2.77</td>\n",
       "      <td>Organic Mental Disorders, Substance-Induced</td>\n",
       "      <td>0.30</td>\n",
       "    </tr>\n",
       "  </tbody>\n",
       "</table>\n",
       "<p>2019490 rows × 5 columns</p>\n",
       "</div>"
      ],
      "text/plain": [
       "        gene_name drug_name  interaction_group_score  \\\n",
       "2019376       A2M  THROMBIN                     5.30   \n",
       "2019385       A2M  THROMBIN                     5.30   \n",
       "2019384       A2M  THROMBIN                     5.30   \n",
       "2019383       A2M  THROMBIN                     5.30   \n",
       "2019382       A2M  THROMBIN                     5.30   \n",
       "...           ...       ...                      ...   \n",
       "2016598   ZNF804A   LITHIUM                     2.77   \n",
       "2016597   ZNF804A   LITHIUM                     2.77   \n",
       "2016596   ZNF804A   LITHIUM                     2.77   \n",
       "2016606   ZNF804A   LITHIUM                     2.77   \n",
       "2016602   ZNF804A   LITHIUM                     2.77   \n",
       "\n",
       "                                         diseaseName  score  \n",
       "2019376                   Malignant neoplasm of lung   0.30  \n",
       "2019385                          Acute kidney injury   0.30  \n",
       "2019384                              Liver carcinoma   0.51  \n",
       "2019383                   Acute Kidney Insufficiency   0.30  \n",
       "2019382               Hepatic Form of Wilson Disease   0.30  \n",
       "...                                              ...    ...  \n",
       "2016598                         Colorectal Carcinoma   0.30  \n",
       "2016597                         Renal Cell Carcinoma   0.30  \n",
       "2016596                             Bipolar Disorder   0.50  \n",
       "2016606                  Substance-Related Disorders   0.30  \n",
       "2016602  Organic Mental Disorders, Substance-Induced   0.30  \n",
       "\n",
       "[2019490 rows x 5 columns]"
      ]
     },
     "execution_count": 26,
     "metadata": {},
     "output_type": "execute_result"
    }
   ],
   "source": [
    "Finaldf.sort_values('gene_name')"
   ]
  },
  {
   "cell_type": "code",
   "execution_count": 27,
   "metadata": {
    "colab": {
     "base_uri": "https://localhost:8080/",
     "height": 423
    },
    "id": "qMlap3w7RIKd",
    "outputId": "8b55f446-1584-4370-a140-bc62b23fb6b9"
   },
   "outputs": [
    {
     "data": {
      "text/html": [
       "<div>\n",
       "<style scoped>\n",
       "    .dataframe tbody tr th:only-of-type {\n",
       "        vertical-align: middle;\n",
       "    }\n",
       "\n",
       "    .dataframe tbody tr th {\n",
       "        vertical-align: top;\n",
       "    }\n",
       "\n",
       "    .dataframe thead th {\n",
       "        text-align: right;\n",
       "    }\n",
       "</style>\n",
       "<table border=\"1\" class=\"dataframe\">\n",
       "  <thead>\n",
       "    <tr style=\"text-align: right;\">\n",
       "      <th></th>\n",
       "      <th>gene_name</th>\n",
       "      <th>drug_name</th>\n",
       "      <th>interaction_group_score</th>\n",
       "      <th>diseaseName</th>\n",
       "      <th>score</th>\n",
       "      <th>globalScore</th>\n",
       "    </tr>\n",
       "  </thead>\n",
       "  <tbody>\n",
       "    <tr>\n",
       "      <th>0</th>\n",
       "      <td>VDR</td>\n",
       "      <td>NIFEKALANT</td>\n",
       "      <td>0.14</td>\n",
       "      <td>Osteoporosis, Age-Related</td>\n",
       "      <td>0.30</td>\n",
       "      <td>0.0420</td>\n",
       "    </tr>\n",
       "    <tr>\n",
       "      <th>1</th>\n",
       "      <td>VDR</td>\n",
       "      <td>NIFEKALANT</td>\n",
       "      <td>0.14</td>\n",
       "      <td>Alopecia</td>\n",
       "      <td>0.50</td>\n",
       "      <td>0.0700</td>\n",
       "    </tr>\n",
       "    <tr>\n",
       "      <th>2</th>\n",
       "      <td>VDR</td>\n",
       "      <td>NIFEKALANT</td>\n",
       "      <td>0.14</td>\n",
       "      <td>Bipolar Disorder</td>\n",
       "      <td>0.31</td>\n",
       "      <td>0.0434</td>\n",
       "    </tr>\n",
       "    <tr>\n",
       "      <th>3</th>\n",
       "      <td>VDR</td>\n",
       "      <td>NIFEKALANT</td>\n",
       "      <td>0.14</td>\n",
       "      <td>Malignant neoplasm of breast</td>\n",
       "      <td>0.40</td>\n",
       "      <td>0.0560</td>\n",
       "    </tr>\n",
       "    <tr>\n",
       "      <th>4</th>\n",
       "      <td>VDR</td>\n",
       "      <td>NIFEKALANT</td>\n",
       "      <td>0.14</td>\n",
       "      <td>Malignant Neoplasms</td>\n",
       "      <td>0.40</td>\n",
       "      <td>0.0560</td>\n",
       "    </tr>\n",
       "    <tr>\n",
       "      <th>...</th>\n",
       "      <td>...</td>\n",
       "      <td>...</td>\n",
       "      <td>...</td>\n",
       "      <td>...</td>\n",
       "      <td>...</td>\n",
       "      <td>...</td>\n",
       "    </tr>\n",
       "    <tr>\n",
       "      <th>2019485</th>\n",
       "      <td>LNPEP</td>\n",
       "      <td>TOSEDOSTAT</td>\n",
       "      <td>3.35</td>\n",
       "      <td>Memory impairment</td>\n",
       "      <td>0.30</td>\n",
       "      <td>1.0050</td>\n",
       "    </tr>\n",
       "    <tr>\n",
       "      <th>2019486</th>\n",
       "      <td>LNPEP</td>\n",
       "      <td>TOSEDOSTAT</td>\n",
       "      <td>3.35</td>\n",
       "      <td>Age-Related Memory Disorders</td>\n",
       "      <td>0.30</td>\n",
       "      <td>1.0050</td>\n",
       "    </tr>\n",
       "    <tr>\n",
       "      <th>2019487</th>\n",
       "      <td>LNPEP</td>\n",
       "      <td>TOSEDOSTAT</td>\n",
       "      <td>3.35</td>\n",
       "      <td>Memory Disorder, Semantic</td>\n",
       "      <td>0.30</td>\n",
       "      <td>1.0050</td>\n",
       "    </tr>\n",
       "    <tr>\n",
       "      <th>2019488</th>\n",
       "      <td>LNPEP</td>\n",
       "      <td>TOSEDOSTAT</td>\n",
       "      <td>3.35</td>\n",
       "      <td>Memory Disorder, Spatial</td>\n",
       "      <td>0.30</td>\n",
       "      <td>1.0050</td>\n",
       "    </tr>\n",
       "    <tr>\n",
       "      <th>2019489</th>\n",
       "      <td>LNPEP</td>\n",
       "      <td>TOSEDOSTAT</td>\n",
       "      <td>3.35</td>\n",
       "      <td>Memory Loss</td>\n",
       "      <td>0.31</td>\n",
       "      <td>1.0385</td>\n",
       "    </tr>\n",
       "  </tbody>\n",
       "</table>\n",
       "<p>2019490 rows × 6 columns</p>\n",
       "</div>"
      ],
      "text/plain": [
       "        gene_name   drug_name  interaction_group_score  \\\n",
       "0             VDR  NIFEKALANT                     0.14   \n",
       "1             VDR  NIFEKALANT                     0.14   \n",
       "2             VDR  NIFEKALANT                     0.14   \n",
       "3             VDR  NIFEKALANT                     0.14   \n",
       "4             VDR  NIFEKALANT                     0.14   \n",
       "...           ...         ...                      ...   \n",
       "2019485     LNPEP  TOSEDOSTAT                     3.35   \n",
       "2019486     LNPEP  TOSEDOSTAT                     3.35   \n",
       "2019487     LNPEP  TOSEDOSTAT                     3.35   \n",
       "2019488     LNPEP  TOSEDOSTAT                     3.35   \n",
       "2019489     LNPEP  TOSEDOSTAT                     3.35   \n",
       "\n",
       "                          diseaseName  score  globalScore  \n",
       "0           Osteoporosis, Age-Related   0.30       0.0420  \n",
       "1                            Alopecia   0.50       0.0700  \n",
       "2                    Bipolar Disorder   0.31       0.0434  \n",
       "3        Malignant neoplasm of breast   0.40       0.0560  \n",
       "4                 Malignant Neoplasms   0.40       0.0560  \n",
       "...                               ...    ...          ...  \n",
       "2019485             Memory impairment   0.30       1.0050  \n",
       "2019486  Age-Related Memory Disorders   0.30       1.0050  \n",
       "2019487     Memory Disorder, Semantic   0.30       1.0050  \n",
       "2019488      Memory Disorder, Spatial   0.30       1.0050  \n",
       "2019489                   Memory Loss   0.31       1.0385  \n",
       "\n",
       "[2019490 rows x 6 columns]"
      ]
     },
     "execution_count": 27,
     "metadata": {},
     "output_type": "execute_result"
    }
   ],
   "source": [
    "Finaldf['globalScore']=Finaldf['score']*Finaldf['interaction_group_score']\n",
    "Finaldf"
   ]
  },
  {
   "cell_type": "code",
   "execution_count": 28,
   "metadata": {
    "colab": {
     "base_uri": "https://localhost:8080/",
     "height": 423
    },
    "id": "dK2ivJHKRIKd",
    "outputId": "e28b1b2a-c003-48f2-88b6-27427a5766b7"
   },
   "outputs": [
    {
     "data": {
      "text/html": [
       "<div>\n",
       "<style scoped>\n",
       "    .dataframe tbody tr th:only-of-type {\n",
       "        vertical-align: middle;\n",
       "    }\n",
       "\n",
       "    .dataframe tbody tr th {\n",
       "        vertical-align: top;\n",
       "    }\n",
       "\n",
       "    .dataframe thead th {\n",
       "        text-align: right;\n",
       "    }\n",
       "</style>\n",
       "<table border=\"1\" class=\"dataframe\">\n",
       "  <thead>\n",
       "    <tr style=\"text-align: right;\">\n",
       "      <th></th>\n",
       "      <th>diseaseName</th>\n",
       "      <th>drug_name</th>\n",
       "      <th>globalScore</th>\n",
       "    </tr>\n",
       "  </thead>\n",
       "  <tbody>\n",
       "    <tr>\n",
       "      <th>0</th>\n",
       "      <td>Osteoporosis, Age-Related</td>\n",
       "      <td>NIFEKALANT</td>\n",
       "      <td>0.0420</td>\n",
       "    </tr>\n",
       "    <tr>\n",
       "      <th>1</th>\n",
       "      <td>Alopecia</td>\n",
       "      <td>NIFEKALANT</td>\n",
       "      <td>0.0700</td>\n",
       "    </tr>\n",
       "    <tr>\n",
       "      <th>2</th>\n",
       "      <td>Bipolar Disorder</td>\n",
       "      <td>NIFEKALANT</td>\n",
       "      <td>0.0434</td>\n",
       "    </tr>\n",
       "    <tr>\n",
       "      <th>3</th>\n",
       "      <td>Malignant neoplasm of breast</td>\n",
       "      <td>NIFEKALANT</td>\n",
       "      <td>0.0560</td>\n",
       "    </tr>\n",
       "    <tr>\n",
       "      <th>4</th>\n",
       "      <td>Malignant Neoplasms</td>\n",
       "      <td>NIFEKALANT</td>\n",
       "      <td>0.0560</td>\n",
       "    </tr>\n",
       "    <tr>\n",
       "      <th>...</th>\n",
       "      <td>...</td>\n",
       "      <td>...</td>\n",
       "      <td>...</td>\n",
       "    </tr>\n",
       "    <tr>\n",
       "      <th>2019485</th>\n",
       "      <td>Memory impairment</td>\n",
       "      <td>TOSEDOSTAT</td>\n",
       "      <td>1.0050</td>\n",
       "    </tr>\n",
       "    <tr>\n",
       "      <th>2019486</th>\n",
       "      <td>Age-Related Memory Disorders</td>\n",
       "      <td>TOSEDOSTAT</td>\n",
       "      <td>1.0050</td>\n",
       "    </tr>\n",
       "    <tr>\n",
       "      <th>2019487</th>\n",
       "      <td>Memory Disorder, Semantic</td>\n",
       "      <td>TOSEDOSTAT</td>\n",
       "      <td>1.0050</td>\n",
       "    </tr>\n",
       "    <tr>\n",
       "      <th>2019488</th>\n",
       "      <td>Memory Disorder, Spatial</td>\n",
       "      <td>TOSEDOSTAT</td>\n",
       "      <td>1.0050</td>\n",
       "    </tr>\n",
       "    <tr>\n",
       "      <th>2019489</th>\n",
       "      <td>Memory Loss</td>\n",
       "      <td>TOSEDOSTAT</td>\n",
       "      <td>1.0385</td>\n",
       "    </tr>\n",
       "  </tbody>\n",
       "</table>\n",
       "<p>2019490 rows × 3 columns</p>\n",
       "</div>"
      ],
      "text/plain": [
       "                          diseaseName   drug_name  globalScore\n",
       "0           Osteoporosis, Age-Related  NIFEKALANT       0.0420\n",
       "1                            Alopecia  NIFEKALANT       0.0700\n",
       "2                    Bipolar Disorder  NIFEKALANT       0.0434\n",
       "3        Malignant neoplasm of breast  NIFEKALANT       0.0560\n",
       "4                 Malignant Neoplasms  NIFEKALANT       0.0560\n",
       "...                               ...         ...          ...\n",
       "2019485             Memory impairment  TOSEDOSTAT       1.0050\n",
       "2019486  Age-Related Memory Disorders  TOSEDOSTAT       1.0050\n",
       "2019487     Memory Disorder, Semantic  TOSEDOSTAT       1.0050\n",
       "2019488      Memory Disorder, Spatial  TOSEDOSTAT       1.0050\n",
       "2019489                   Memory Loss  TOSEDOSTAT       1.0385\n",
       "\n",
       "[2019490 rows x 3 columns]"
      ]
     },
     "execution_count": 28,
     "metadata": {},
     "output_type": "execute_result"
    }
   ],
   "source": [
    "finalDf=Finaldf[['diseaseName','drug_name','globalScore']]\n",
    "finalDf"
   ]
  },
  {
   "cell_type": "code",
   "execution_count": 29,
   "metadata": {
    "id": "ykRRf-EiRIKe"
   },
   "outputs": [],
   "source": [
    "G = nx.from_pandas_edgelist(finalDf, source='diseaseName', target='drug_name',edge_attr= 'globalScore')"
   ]
  },
  {
   "cell_type": "code",
   "execution_count": 30,
   "metadata": {
    "colab": {
     "base_uri": "https://localhost:8080/"
    },
    "id": "oyPNi4PFRIKe",
    "outputId": "0851926f-d99b-4bb0-f4a7-71434db3bfbd"
   },
   "outputs": [
    {
     "name": "stdout",
     "output_type": "stream",
     "text": [
      "Graph named 'Disease & drug Interactions Network' with 17156 nodes and 1168602 edges\n",
      "Network density: 0.00794126815026191\n"
     ]
    }
   ],
   "source": [
    "# Give the graph a name\n",
    "G.name = 'Disease & drug Interactions Network'\n",
    "\n",
    "# Obtain general information of graph\n",
    "print(nx.info(G))\n",
    "\n",
    "# Get graph density\n",
    "density = nx.density(G)\n",
    "print(\"Network density:\", density)"
   ]
  },
  {
   "cell_type": "code",
   "execution_count": 31,
   "metadata": {
    "id": "04hivue8RIKe"
   },
   "outputs": [],
   "source": [
    "#figure(figsize=(15, 20))\n",
    "#pos = nx.spring_layout(G, k=10)  # For better example looking\n",
    "#nx.draw(G, pos, with_labels=True)\n",
    "#labels = {e: G.edges[e]['globalScore'] for e in G.edges}\n",
    "#nx.draw_networkx_edge_labels(G, pos, edge_labels=labels)\n",
    "#plt.show()"
   ]
  },
  {
   "cell_type": "code",
   "execution_count": 32,
   "metadata": {
    "colab": {
     "base_uri": "https://localhost:8080/"
    },
    "id": "c9F1wpS5RIKe",
    "outputId": "c807b6a3-4b9a-4887-9a1a-520d97c67ddc"
   },
   "outputs": [
    {
     "name": "stdout",
     "output_type": "stream",
     "text": [
      "True\n"
     ]
    }
   ],
   "source": [
    "from networkx.algorithms import bipartite\n",
    "print(bipartite.is_bipartite(G))"
   ]
  },
  {
   "cell_type": "code",
   "execution_count": 33,
   "metadata": {
    "colab": {
     "base_uri": "https://localhost:8080/"
    },
    "id": "eZdPXAEpRIKe",
    "outputId": "b64a4855-9f47-47bb-d60c-7a8d718b5099"
   },
   "outputs": [
    {
     "data": {
      "text/plain": [
       "<17156x17156 sparse matrix of type '<class 'numpy.float64'>'\n",
       "\twith 2337204 stored elements in Compressed Sparse Row format>"
      ]
     },
     "execution_count": 33,
     "metadata": {},
     "output_type": "execute_result"
    }
   ],
   "source": [
    "adj_matrix = nx.adjacency_matrix(G, weight = \"globalScore\")\n",
    "adj_matrix"
   ]
  },
  {
   "cell_type": "code",
   "execution_count": 34,
   "metadata": {
    "colab": {
     "base_uri": "https://localhost:8080/"
    },
    "id": "oYohXac7X3f1",
    "outputId": "e6d9f53e-1e3b-4967-df32-5998f3609e1b"
   },
   "outputs": [
    {
     "data": {
      "text/plain": [
       "matrix([[0.   , 0.042, 0.   , ..., 0.   , 0.   , 0.   ],\n",
       "        [0.042, 0.   , 0.07 , ..., 0.   , 0.   , 0.   ],\n",
       "        [0.   , 0.07 , 0.   , ..., 0.   , 0.   , 0.   ],\n",
       "        ...,\n",
       "        [0.   , 0.   , 0.   , ..., 0.   , 0.   , 0.   ],\n",
       "        [0.   , 0.   , 0.   , ..., 0.   , 0.   , 0.   ],\n",
       "        [0.   , 0.   , 0.   , ..., 0.   , 0.   , 0.   ]])"
      ]
     },
     "execution_count": 34,
     "metadata": {},
     "output_type": "execute_result"
    }
   ],
   "source": [
    "Adj = adj_matrix.todense()\n",
    "Adj"
   ]
  },
  {
   "cell_type": "code",
   "execution_count": 35,
   "metadata": {
    "colab": {
     "base_uri": "https://localhost:8080/"
    },
    "id": "hQgy3o2nYR8C",
    "outputId": "66fa52a8-cdc5-4037-ba31-f2e1fccb1d75"
   },
   "outputs": [
    {
     "data": {
      "text/plain": [
       "tensor([[0.0000, 0.0420, 0.0000,  ..., 0.0000, 0.0000, 0.0000],\n",
       "        [0.0420, 0.0000, 0.0700,  ..., 0.0000, 0.0000, 0.0000],\n",
       "        [0.0000, 0.0700, 0.0000,  ..., 0.0000, 0.0000, 0.0000],\n",
       "        ...,\n",
       "        [0.0000, 0.0000, 0.0000,  ..., 0.0000, 0.0000, 0.0000],\n",
       "        [0.0000, 0.0000, 0.0000,  ..., 0.0000, 0.0000, 0.0000],\n",
       "        [0.0000, 0.0000, 0.0000,  ..., 0.0000, 0.0000, 0.0000]],\n",
       "       dtype=torch.float64)"
      ]
     },
     "execution_count": 35,
     "metadata": {},
     "output_type": "execute_result"
    }
   ],
   "source": [
    "tensor1 =torch.from_numpy(Adj)\n",
    "tensor1"
   ]
  },
  {
   "cell_type": "code",
   "execution_count": 36,
   "metadata": {
    "id": "hNA7kkFhk2xC"
   },
   "outputs": [],
   "source": [
    "import numpy as np\n",
    "def encode_column(column):\n",
    "    \"\"\" Encodes a pandas column with continous IDs\"\"\"\n",
    "    keys = column.unique()\n",
    "    key_to_id = {key:idx for idx,key in enumerate(keys)}\n",
    "    return key_to_id, np.array([key_to_id[x] for x in column]), len(keys)"
   ]
  },
  {
   "cell_type": "code",
   "execution_count": 37,
   "metadata": {
    "id": "FWkNVEvkmuzS"
   },
   "outputs": [],
   "source": [
    "def encode_df(dataframe):\n",
    "    \"\"\"Encodes rating data with continuous user and anime ids\"\"\"\n",
    "    \n",
    "    disease_ids, dataframe['diseaseName_id'], num_diseases = encode_column(dataframe['diseaseName'])\n",
    "    drug_ids, dataframe['drug_name_id'], num_drugs = encode_column(dataframe['drug_name'])\n",
    "    return dataframe, num_drugs, num_diseases, drug_ids, disease_ids"
   ]
  },
  {
   "cell_type": "code",
   "execution_count": 38,
   "metadata": {
    "colab": {
     "base_uri": "https://localhost:8080/",
     "height": 449
    },
    "id": "9SjwEKGkvTbd",
    "outputId": "41227eaa-0302-4848-96a3-ecb80c4fe823"
   },
   "outputs": [
    {
     "name": "stderr",
     "output_type": "stream",
     "text": [
      "C:\\Users\\ldaou\\anaconda3\\lib\\site-packages\\ipykernel_launcher.py:4: SettingWithCopyWarning: \n",
      "A value is trying to be set on a copy of a slice from a DataFrame.\n",
      "Try using .loc[row_indexer,col_indexer] = value instead\n",
      "\n",
      "See the caveats in the documentation: https://pandas.pydata.org/pandas-docs/stable/user_guide/indexing.html#returning-a-view-versus-a-copy\n",
      "  after removing the cwd from sys.path.\n"
     ]
    },
    {
     "name": "stdout",
     "output_type": "stream",
     "text": [
      "Number of drugs : 10434\n",
      "Number of diseases : 6722\n"
     ]
    },
    {
     "name": "stderr",
     "output_type": "stream",
     "text": [
      "C:\\Users\\ldaou\\anaconda3\\lib\\site-packages\\ipykernel_launcher.py:5: SettingWithCopyWarning: \n",
      "A value is trying to be set on a copy of a slice from a DataFrame.\n",
      "Try using .loc[row_indexer,col_indexer] = value instead\n",
      "\n",
      "See the caveats in the documentation: https://pandas.pydata.org/pandas-docs/stable/user_guide/indexing.html#returning-a-view-versus-a-copy\n",
      "  \"\"\"\n"
     ]
    },
    {
     "data": {
      "text/html": [
       "<div>\n",
       "<style scoped>\n",
       "    .dataframe tbody tr th:only-of-type {\n",
       "        vertical-align: middle;\n",
       "    }\n",
       "\n",
       "    .dataframe tbody tr th {\n",
       "        vertical-align: top;\n",
       "    }\n",
       "\n",
       "    .dataframe thead th {\n",
       "        text-align: right;\n",
       "    }\n",
       "</style>\n",
       "<table border=\"1\" class=\"dataframe\">\n",
       "  <thead>\n",
       "    <tr style=\"text-align: right;\">\n",
       "      <th></th>\n",
       "      <th>diseaseName</th>\n",
       "      <th>drug_name</th>\n",
       "      <th>globalScore</th>\n",
       "      <th>diseaseName_id</th>\n",
       "      <th>drug_name_id</th>\n",
       "    </tr>\n",
       "  </thead>\n",
       "  <tbody>\n",
       "    <tr>\n",
       "      <th>0</th>\n",
       "      <td>Osteoporosis, Age-Related</td>\n",
       "      <td>NIFEKALANT</td>\n",
       "      <td>0.0420</td>\n",
       "      <td>0</td>\n",
       "      <td>0</td>\n",
       "    </tr>\n",
       "    <tr>\n",
       "      <th>1</th>\n",
       "      <td>Alopecia</td>\n",
       "      <td>NIFEKALANT</td>\n",
       "      <td>0.0700</td>\n",
       "      <td>1</td>\n",
       "      <td>0</td>\n",
       "    </tr>\n",
       "    <tr>\n",
       "      <th>2</th>\n",
       "      <td>Bipolar Disorder</td>\n",
       "      <td>NIFEKALANT</td>\n",
       "      <td>0.0434</td>\n",
       "      <td>2</td>\n",
       "      <td>0</td>\n",
       "    </tr>\n",
       "    <tr>\n",
       "      <th>3</th>\n",
       "      <td>Malignant neoplasm of breast</td>\n",
       "      <td>NIFEKALANT</td>\n",
       "      <td>0.0560</td>\n",
       "      <td>3</td>\n",
       "      <td>0</td>\n",
       "    </tr>\n",
       "    <tr>\n",
       "      <th>4</th>\n",
       "      <td>Malignant Neoplasms</td>\n",
       "      <td>NIFEKALANT</td>\n",
       "      <td>0.0560</td>\n",
       "      <td>4</td>\n",
       "      <td>0</td>\n",
       "    </tr>\n",
       "  </tbody>\n",
       "</table>\n",
       "</div>"
      ],
      "text/plain": [
       "                    diseaseName   drug_name  globalScore  diseaseName_id  \\\n",
       "0     Osteoporosis, Age-Related  NIFEKALANT       0.0420               0   \n",
       "1                      Alopecia  NIFEKALANT       0.0700               1   \n",
       "2              Bipolar Disorder  NIFEKALANT       0.0434               2   \n",
       "3  Malignant neoplasm of breast  NIFEKALANT       0.0560               3   \n",
       "4           Malignant Neoplasms  NIFEKALANT       0.0560               4   \n",
       "\n",
       "   drug_name_id  \n",
       "0             0  \n",
       "1             0  \n",
       "2             0  \n",
       "3             0  \n",
       "4             0  "
      ]
     },
     "execution_count": 38,
     "metadata": {},
     "output_type": "execute_result"
    }
   ],
   "source": [
    "dataframe, num_drugs, num_diseases, drug_ids, disease_ids = encode_df(finalDf)\n",
    "print(\"Number of drugs :\", num_drugs)\n",
    "print(\"Number of diseases :\", num_diseases)\n",
    "dataframe.head()"
   ]
  },
  {
   "cell_type": "code",
   "execution_count": 39,
   "metadata": {
    "colab": {
     "base_uri": "https://localhost:8080/",
     "height": 423
    },
    "id": "WM6enL2xwIXO",
    "outputId": "c7b1b501-c9b0-484f-9705-1ba20b06ad1c"
   },
   "outputs": [
    {
     "data": {
      "text/html": [
       "<div>\n",
       "<style scoped>\n",
       "    .dataframe tbody tr th:only-of-type {\n",
       "        vertical-align: middle;\n",
       "    }\n",
       "\n",
       "    .dataframe tbody tr th {\n",
       "        vertical-align: top;\n",
       "    }\n",
       "\n",
       "    .dataframe thead th {\n",
       "        text-align: right;\n",
       "    }\n",
       "</style>\n",
       "<table border=\"1\" class=\"dataframe\">\n",
       "  <thead>\n",
       "    <tr style=\"text-align: right;\">\n",
       "      <th></th>\n",
       "      <th>diseaseName_id</th>\n",
       "      <th>drug_name_id</th>\n",
       "      <th>globalScore</th>\n",
       "    </tr>\n",
       "  </thead>\n",
       "  <tbody>\n",
       "    <tr>\n",
       "      <th>0</th>\n",
       "      <td>0</td>\n",
       "      <td>0</td>\n",
       "      <td>0.0420</td>\n",
       "    </tr>\n",
       "    <tr>\n",
       "      <th>1</th>\n",
       "      <td>1</td>\n",
       "      <td>0</td>\n",
       "      <td>0.0700</td>\n",
       "    </tr>\n",
       "    <tr>\n",
       "      <th>2</th>\n",
       "      <td>2</td>\n",
       "      <td>0</td>\n",
       "      <td>0.0434</td>\n",
       "    </tr>\n",
       "    <tr>\n",
       "      <th>3</th>\n",
       "      <td>3</td>\n",
       "      <td>0</td>\n",
       "      <td>0.0560</td>\n",
       "    </tr>\n",
       "    <tr>\n",
       "      <th>4</th>\n",
       "      <td>4</td>\n",
       "      <td>0</td>\n",
       "      <td>0.0560</td>\n",
       "    </tr>\n",
       "    <tr>\n",
       "      <th>...</th>\n",
       "      <td>...</td>\n",
       "      <td>...</td>\n",
       "      <td>...</td>\n",
       "    </tr>\n",
       "    <tr>\n",
       "      <th>2019485</th>\n",
       "      <td>258</td>\n",
       "      <td>9082</td>\n",
       "      <td>1.0050</td>\n",
       "    </tr>\n",
       "    <tr>\n",
       "      <th>2019486</th>\n",
       "      <td>276</td>\n",
       "      <td>9082</td>\n",
       "      <td>1.0050</td>\n",
       "    </tr>\n",
       "    <tr>\n",
       "      <th>2019487</th>\n",
       "      <td>277</td>\n",
       "      <td>9082</td>\n",
       "      <td>1.0050</td>\n",
       "    </tr>\n",
       "    <tr>\n",
       "      <th>2019488</th>\n",
       "      <td>278</td>\n",
       "      <td>9082</td>\n",
       "      <td>1.0050</td>\n",
       "    </tr>\n",
       "    <tr>\n",
       "      <th>2019489</th>\n",
       "      <td>279</td>\n",
       "      <td>9082</td>\n",
       "      <td>1.0385</td>\n",
       "    </tr>\n",
       "  </tbody>\n",
       "</table>\n",
       "<p>2019490 rows × 3 columns</p>\n",
       "</div>"
      ],
      "text/plain": [
       "         diseaseName_id  drug_name_id  globalScore\n",
       "0                     0             0       0.0420\n",
       "1                     1             0       0.0700\n",
       "2                     2             0       0.0434\n",
       "3                     3             0       0.0560\n",
       "4                     4             0       0.0560\n",
       "...                 ...           ...          ...\n",
       "2019485             258          9082       1.0050\n",
       "2019486             276          9082       1.0050\n",
       "2019487             277          9082       1.0050\n",
       "2019488             278          9082       1.0050\n",
       "2019489             279          9082       1.0385\n",
       "\n",
       "[2019490 rows x 3 columns]"
      ]
     },
     "execution_count": 39,
     "metadata": {},
     "output_type": "execute_result"
    }
   ],
   "source": [
    "newdf = finalDf[['diseaseName_id', 'drug_name_id' ,'globalScore']]\n",
    "newdf"
   ]
  },
  {
   "cell_type": "code",
   "execution_count": 40,
   "metadata": {
    "id": "RUARBTPcxWFo"
   },
   "outputs": [],
   "source": [
    "train, val = train_test_split(newdf, test_size=(0.2))"
   ]
  },
  {
   "cell_type": "code",
   "execution_count": 41,
   "metadata": {
    "colab": {
     "base_uri": "https://localhost:8080/",
     "height": 423
    },
    "id": "gD2ASlr31fE1",
    "outputId": "442fcb6d-0877-4e35-b8e6-e7e0126fe93b"
   },
   "outputs": [
    {
     "data": {
      "text/html": [
       "<div>\n",
       "<style scoped>\n",
       "    .dataframe tbody tr th:only-of-type {\n",
       "        vertical-align: middle;\n",
       "    }\n",
       "\n",
       "    .dataframe tbody tr th {\n",
       "        vertical-align: top;\n",
       "    }\n",
       "\n",
       "    .dataframe thead th {\n",
       "        text-align: right;\n",
       "    }\n",
       "</style>\n",
       "<table border=\"1\" class=\"dataframe\">\n",
       "  <thead>\n",
       "    <tr style=\"text-align: right;\">\n",
       "      <th></th>\n",
       "      <th>diseaseName_id</th>\n",
       "      <th>drug_name_id</th>\n",
       "      <th>globalScore</th>\n",
       "    </tr>\n",
       "  </thead>\n",
       "  <tbody>\n",
       "    <tr>\n",
       "      <th>1935051</th>\n",
       "      <td>492</td>\n",
       "      <td>9859</td>\n",
       "      <td>4.7730</td>\n",
       "    </tr>\n",
       "    <tr>\n",
       "      <th>1299258</th>\n",
       "      <td>2106</td>\n",
       "      <td>5236</td>\n",
       "      <td>0.1488</td>\n",
       "    </tr>\n",
       "    <tr>\n",
       "      <th>1303608</th>\n",
       "      <td>132</td>\n",
       "      <td>4596</td>\n",
       "      <td>0.8215</td>\n",
       "    </tr>\n",
       "    <tr>\n",
       "      <th>923694</th>\n",
       "      <td>127</td>\n",
       "      <td>136</td>\n",
       "      <td>0.0000</td>\n",
       "    </tr>\n",
       "    <tr>\n",
       "      <th>559750</th>\n",
       "      <td>568</td>\n",
       "      <td>1134</td>\n",
       "      <td>0.0050</td>\n",
       "    </tr>\n",
       "    <tr>\n",
       "      <th>...</th>\n",
       "      <td>...</td>\n",
       "      <td>...</td>\n",
       "      <td>...</td>\n",
       "    </tr>\n",
       "    <tr>\n",
       "      <th>1119209</th>\n",
       "      <td>1863</td>\n",
       "      <td>2153</td>\n",
       "      <td>0.0360</td>\n",
       "    </tr>\n",
       "    <tr>\n",
       "      <th>111583</th>\n",
       "      <td>438</td>\n",
       "      <td>2127</td>\n",
       "      <td>0.0270</td>\n",
       "    </tr>\n",
       "    <tr>\n",
       "      <th>345705</th>\n",
       "      <td>445</td>\n",
       "      <td>4142</td>\n",
       "      <td>0.1054</td>\n",
       "    </tr>\n",
       "    <tr>\n",
       "      <th>967031</th>\n",
       "      <td>57</td>\n",
       "      <td>468</td>\n",
       "      <td>0.0090</td>\n",
       "    </tr>\n",
       "    <tr>\n",
       "      <th>1676887</th>\n",
       "      <td>557</td>\n",
       "      <td>448</td>\n",
       "      <td>0.0240</td>\n",
       "    </tr>\n",
       "  </tbody>\n",
       "</table>\n",
       "<p>1615592 rows × 3 columns</p>\n",
       "</div>"
      ],
      "text/plain": [
       "         diseaseName_id  drug_name_id  globalScore\n",
       "1935051             492          9859       4.7730\n",
       "1299258            2106          5236       0.1488\n",
       "1303608             132          4596       0.8215\n",
       "923694              127           136       0.0000\n",
       "559750              568          1134       0.0050\n",
       "...                 ...           ...          ...\n",
       "1119209            1863          2153       0.0360\n",
       "111583              438          2127       0.0270\n",
       "345705              445          4142       0.1054\n",
       "967031               57           468       0.0090\n",
       "1676887             557           448       0.0240\n",
       "\n",
       "[1615592 rows x 3 columns]"
      ]
     },
     "execution_count": 41,
     "metadata": {},
     "output_type": "execute_result"
    }
   ],
   "source": [
    "train"
   ]
  },
  {
   "cell_type": "code",
   "execution_count": 42,
   "metadata": {
    "colab": {
     "base_uri": "https://localhost:8080/"
    },
    "id": "DIKwmNhbyHP2",
    "outputId": "0c9499d8-1326-419f-a401-70a7e3a5b0f9"
   },
   "outputs": [
    {
     "data": {
      "text/plain": [
       "array([   0,    1,    2, ..., 6719, 6720, 6721])"
      ]
     },
     "execution_count": 42,
     "metadata": {},
     "output_type": "execute_result"
    }
   ],
   "source": [
    "train_disease_ids = np.sort(np.unique(train.diseaseName_id.values))\n",
    "train_disease_ids"
   ]
  },
  {
   "cell_type": "code",
   "execution_count": 43,
   "metadata": {
    "colab": {
     "base_uri": "https://localhost:8080/"
    },
    "id": "GRg2R70IyVUQ",
    "outputId": "e8ba8a07-bfa7-43dc-99a9-8fe439421b95"
   },
   "outputs": [
    {
     "data": {
      "text/plain": [
       "6569"
      ]
     },
     "execution_count": 43,
     "metadata": {},
     "output_type": "execute_result"
    }
   ],
   "source": [
    "num_diseases = len(train_disease_ids)\n",
    "num_diseases"
   ]
  },
  {
   "cell_type": "code",
   "execution_count": 44,
   "metadata": {
    "id": "t1DV197f0th4"
   },
   "outputs": [],
   "source": [
    "diseaseid2idx = {o:i for i,o in enumerate(train_disease_ids)}\n",
    "#diseaseid2idx\n"
   ]
  },
  {
   "cell_type": "code",
   "execution_count": 45,
   "metadata": {
    "colab": {
     "base_uri": "https://localhost:8080/",
     "height": 206
    },
    "id": "nMqV39he1ao5",
    "outputId": "6d6efa8c-5e2c-41a2-c39c-3d2422f715d3"
   },
   "outputs": [
    {
     "name": "stderr",
     "output_type": "stream",
     "text": [
      "C:\\Users\\ldaou\\anaconda3\\lib\\site-packages\\ipykernel_launcher.py:1: SettingWithCopyWarning: \n",
      "A value is trying to be set on a copy of a slice from a DataFrame.\n",
      "Try using .loc[row_indexer,col_indexer] = value instead\n",
      "\n",
      "See the caveats in the documentation: https://pandas.pydata.org/pandas-docs/stable/user_guide/indexing.html#returning-a-view-versus-a-copy\n",
      "  \"\"\"Entry point for launching an IPython kernel.\n"
     ]
    },
    {
     "data": {
      "text/html": [
       "<div>\n",
       "<style scoped>\n",
       "    .dataframe tbody tr th:only-of-type {\n",
       "        vertical-align: middle;\n",
       "    }\n",
       "\n",
       "    .dataframe tbody tr th {\n",
       "        vertical-align: top;\n",
       "    }\n",
       "\n",
       "    .dataframe thead th {\n",
       "        text-align: right;\n",
       "    }\n",
       "</style>\n",
       "<table border=\"1\" class=\"dataframe\">\n",
       "  <thead>\n",
       "    <tr style=\"text-align: right;\">\n",
       "      <th></th>\n",
       "      <th>diseaseName_id</th>\n",
       "      <th>drug_name_id</th>\n",
       "      <th>globalScore</th>\n",
       "    </tr>\n",
       "  </thead>\n",
       "  <tbody>\n",
       "    <tr>\n",
       "      <th>1935051</th>\n",
       "      <td>492</td>\n",
       "      <td>9859</td>\n",
       "      <td>4.7730</td>\n",
       "    </tr>\n",
       "    <tr>\n",
       "      <th>1299258</th>\n",
       "      <td>2105</td>\n",
       "      <td>5236</td>\n",
       "      <td>0.1488</td>\n",
       "    </tr>\n",
       "    <tr>\n",
       "      <th>1303608</th>\n",
       "      <td>132</td>\n",
       "      <td>4596</td>\n",
       "      <td>0.8215</td>\n",
       "    </tr>\n",
       "    <tr>\n",
       "      <th>923694</th>\n",
       "      <td>127</td>\n",
       "      <td>136</td>\n",
       "      <td>0.0000</td>\n",
       "    </tr>\n",
       "    <tr>\n",
       "      <th>559750</th>\n",
       "      <td>568</td>\n",
       "      <td>1134</td>\n",
       "      <td>0.0050</td>\n",
       "    </tr>\n",
       "  </tbody>\n",
       "</table>\n",
       "</div>"
      ],
      "text/plain": [
       "         diseaseName_id  drug_name_id  globalScore\n",
       "1935051             492          9859       4.7730\n",
       "1299258            2105          5236       0.1488\n",
       "1303608             132          4596       0.8215\n",
       "923694              127           136       0.0000\n",
       "559750              568          1134       0.0050"
      ]
     },
     "execution_count": 45,
     "metadata": {},
     "output_type": "execute_result"
    }
   ],
   "source": [
    "train[\"diseaseName_id\"] = train[\"diseaseName_id\"].apply(lambda x:diseaseid2idx[x])\n",
    "train.head()"
   ]
  },
  {
   "cell_type": "code",
   "execution_count": 46,
   "metadata": {
    "colab": {
     "base_uri": "https://localhost:8080/",
     "height": 206
    },
    "id": "ufeDQvxr3lbD",
    "outputId": "46e8eaa3-58e3-45d4-e642-883a761d0e95"
   },
   "outputs": [
    {
     "name": "stderr",
     "output_type": "stream",
     "text": [
      "C:\\Users\\ldaou\\anaconda3\\lib\\site-packages\\ipykernel_launcher.py:1: SettingWithCopyWarning: \n",
      "A value is trying to be set on a copy of a slice from a DataFrame.\n",
      "Try using .loc[row_indexer,col_indexer] = value instead\n",
      "\n",
      "See the caveats in the documentation: https://pandas.pydata.org/pandas-docs/stable/user_guide/indexing.html#returning-a-view-versus-a-copy\n",
      "  \"\"\"Entry point for launching an IPython kernel.\n"
     ]
    },
    {
     "data": {
      "text/html": [
       "<div>\n",
       "<style scoped>\n",
       "    .dataframe tbody tr th:only-of-type {\n",
       "        vertical-align: middle;\n",
       "    }\n",
       "\n",
       "    .dataframe tbody tr th {\n",
       "        vertical-align: top;\n",
       "    }\n",
       "\n",
       "    .dataframe thead th {\n",
       "        text-align: right;\n",
       "    }\n",
       "</style>\n",
       "<table border=\"1\" class=\"dataframe\">\n",
       "  <thead>\n",
       "    <tr style=\"text-align: right;\">\n",
       "      <th></th>\n",
       "      <th>diseaseName_id</th>\n",
       "      <th>drug_name_id</th>\n",
       "      <th>globalScore</th>\n",
       "    </tr>\n",
       "  </thead>\n",
       "  <tbody>\n",
       "    <tr>\n",
       "      <th>3415</th>\n",
       "      <td>13</td>\n",
       "      <td>80</td>\n",
       "      <td>0.0080</td>\n",
       "    </tr>\n",
       "    <tr>\n",
       "      <th>1596253</th>\n",
       "      <td>51</td>\n",
       "      <td>6663</td>\n",
       "      <td>0.6555</td>\n",
       "    </tr>\n",
       "    <tr>\n",
       "      <th>1798432</th>\n",
       "      <td>3373</td>\n",
       "      <td>5578</td>\n",
       "      <td>0.2250</td>\n",
       "    </tr>\n",
       "    <tr>\n",
       "      <th>741197</th>\n",
       "      <td>1471</td>\n",
       "      <td>186</td>\n",
       "      <td>0.0064</td>\n",
       "    </tr>\n",
       "    <tr>\n",
       "      <th>1530358</th>\n",
       "      <td>2765</td>\n",
       "      <td>7959</td>\n",
       "      <td>0.5970</td>\n",
       "    </tr>\n",
       "  </tbody>\n",
       "</table>\n",
       "</div>"
      ],
      "text/plain": [
       "         diseaseName_id  drug_name_id  globalScore\n",
       "3415                 13            80       0.0080\n",
       "1596253              51          6663       0.6555\n",
       "1798432            3373          5578       0.2250\n",
       "741197             1471           186       0.0064\n",
       "1530358            2765          7959       0.5970"
      ]
     },
     "execution_count": 46,
     "metadata": {},
     "output_type": "execute_result"
    }
   ],
   "source": [
    "val['diseaseName_id'] = val['diseaseName_id'].apply(lambda x:diseaseid2idx.get(x,-1))\n",
    "val.head()"
   ]
  },
  {
   "cell_type": "code",
   "execution_count": 47,
   "metadata": {
    "colab": {
     "base_uri": "https://localhost:8080/"
    },
    "id": "lMENy6oMppRA",
    "outputId": "db4f4259-dc62-4a89-9934-c7f5630cc42b"
   },
   "outputs": [
    {
     "name": "stdout",
     "output_type": "stream",
     "text": [
      "10410\n"
     ]
    },
    {
     "data": {
      "text/plain": [
       "array([ 0,  1,  2,  3,  4,  5,  6,  7,  8,  9, 10, 11, 12, 13, 14])"
      ]
     },
     "execution_count": 47,
     "metadata": {},
     "output_type": "execute_result"
    }
   ],
   "source": [
    "train_drug_ids = np.sort(np.unique(train.drug_name_id.values))\n",
    "num_drugs = len(train_drug_ids)\n",
    "print(num_drugs)\n",
    "train_drug_ids[:15]"
   ]
  },
  {
   "cell_type": "code",
   "execution_count": 48,
   "metadata": {
    "id": "NwuiMu-OppUh"
   },
   "outputs": [],
   "source": [
    "drugid2idx = {o:i for i,o in enumerate(train_drug_ids)}\n",
    "#drugid2idx"
   ]
  },
  {
   "cell_type": "code",
   "execution_count": 49,
   "metadata": {
    "colab": {
     "base_uri": "https://localhost:8080/",
     "height": 206
    },
    "id": "NkeKLOFYo3jD",
    "outputId": "013b702a-0f07-40f2-edbc-51ef1efb4a26"
   },
   "outputs": [
    {
     "data": {
      "text/html": [
       "<div>\n",
       "<style scoped>\n",
       "    .dataframe tbody tr th:only-of-type {\n",
       "        vertical-align: middle;\n",
       "    }\n",
       "\n",
       "    .dataframe tbody tr th {\n",
       "        vertical-align: top;\n",
       "    }\n",
       "\n",
       "    .dataframe thead th {\n",
       "        text-align: right;\n",
       "    }\n",
       "</style>\n",
       "<table border=\"1\" class=\"dataframe\">\n",
       "  <thead>\n",
       "    <tr style=\"text-align: right;\">\n",
       "      <th></th>\n",
       "      <th>diseaseName_id</th>\n",
       "      <th>drug_name_id</th>\n",
       "      <th>globalScore</th>\n",
       "    </tr>\n",
       "  </thead>\n",
       "  <tbody>\n",
       "    <tr>\n",
       "      <th>3415</th>\n",
       "      <td>13</td>\n",
       "      <td>80</td>\n",
       "      <td>0.0080</td>\n",
       "    </tr>\n",
       "    <tr>\n",
       "      <th>1596253</th>\n",
       "      <td>51</td>\n",
       "      <td>6663</td>\n",
       "      <td>0.6555</td>\n",
       "    </tr>\n",
       "    <tr>\n",
       "      <th>1798432</th>\n",
       "      <td>3373</td>\n",
       "      <td>5578</td>\n",
       "      <td>0.2250</td>\n",
       "    </tr>\n",
       "    <tr>\n",
       "      <th>741197</th>\n",
       "      <td>1471</td>\n",
       "      <td>186</td>\n",
       "      <td>0.0064</td>\n",
       "    </tr>\n",
       "    <tr>\n",
       "      <th>1530358</th>\n",
       "      <td>2765</td>\n",
       "      <td>7959</td>\n",
       "      <td>0.5970</td>\n",
       "    </tr>\n",
       "  </tbody>\n",
       "</table>\n",
       "</div>"
      ],
      "text/plain": [
       "         diseaseName_id  drug_name_id  globalScore\n",
       "3415                 13            80       0.0080\n",
       "1596253              51          6663       0.6555\n",
       "1798432            3373          5578       0.2250\n",
       "741197             1471           186       0.0064\n",
       "1530358            2765          7959       0.5970"
      ]
     },
     "execution_count": 49,
     "metadata": {},
     "output_type": "execute_result"
    }
   ],
   "source": [
    "val = val[val[\"diseaseName_id\"] >= 0].copy()\n",
    "val.head()"
   ]
  },
  {
   "cell_type": "markdown",
   "metadata": {
    "id": "dTfO9-PorIGo"
   },
   "source": [
    "# #EMBEDDING"
   ]
  },
  {
   "cell_type": "code",
   "execution_count": 50,
   "metadata": {
    "id": "VIEJwhP3rGjb"
   },
   "outputs": [],
   "source": [
    "import torch\n",
    "import torch.nn as nn\n",
    "import torch.nn.functional as F"
   ]
  },
  {
   "cell_type": "code",
   "execution_count": 51,
   "metadata": {
    "colab": {
     "base_uri": "https://localhost:8080/"
    },
    "id": "bpnwXZgdrWxd",
    "outputId": "bf70e4bf-fd86-432a-a826-fb1c00f32cba"
   },
   "outputs": [
    {
     "data": {
      "text/plain": [
       "Parameter containing:\n",
       "tensor([[ 0.3253, -0.4111,  1.2450],\n",
       "        [-0.8918, -0.2443, -0.8477],\n",
       "        [ 0.3150,  0.4000,  1.1624],\n",
       "        [-1.1022,  0.3129,  0.0738],\n",
       "        [-1.5194, -0.9121,  0.6649],\n",
       "        [ 0.7045, -0.1917, -1.8340],\n",
       "        [ 1.6060,  0.9228, -0.9206],\n",
       "        [-1.5194,  0.4855, -0.0291],\n",
       "        [-0.7591,  0.6923, -2.1599],\n",
       "        [ 1.9141,  1.7960,  0.8696]], requires_grad=True)"
      ]
     },
     "execution_count": 51,
     "metadata": {},
     "output_type": "execute_result"
    }
   ],
   "source": [
    "embed = nn.Embedding(10, 3)\n",
    "embed.weight"
   ]
  },
  {
   "cell_type": "code",
   "execution_count": 52,
   "metadata": {
    "id": "AKqUGroMs-Zo"
   },
   "outputs": [],
   "source": [
    "class MatrixFactorization(nn.Module):\n",
    "  def __init__(self, num_diseases, num_drugs, emb_size):\n",
    "    super(MatrixFactorization, self).__init__()\n",
    "    self.user_emb = nn.Embedding(num_diseases, emb_size)\n",
    "    self.item_emb = nn.Embedding(num_drugs, emb_size)\n",
    "    #initialisation des poids \n",
    "    #self.user_emb.weight.data.uniform_(0,0.05)\n",
    "    #self.item_emb.weight.data.uniform_(0,0.05)\n",
    "\n",
    "  def forward(self, u, v):\n",
    "    u = self.user_emb(u)\n",
    "    v = self.item_emb(v)\n",
    "    return (u*v).sum(1)"
   ]
  },
  {
   "cell_type": "markdown",
   "metadata": {
    "id": "lT8EdNbWu6y5"
   },
   "source": [
    "# Training Matrix factorization model"
   ]
  },
  {
   "cell_type": "code",
   "execution_count": 53,
   "metadata": {
    "colab": {
     "base_uri": "https://localhost:8080/"
    },
    "id": "sP1ZlvPzu9Wc",
    "outputId": "4baa7619-10c3-4058-e00f-37ace452e864"
   },
   "outputs": [
    {
     "name": "stdout",
     "output_type": "stream",
     "text": [
      "6569 10410\n"
     ]
    }
   ],
   "source": [
    "num_diseases = len(train.diseaseName_id.unique())\n",
    "num_drugs = len(train.drug_name_id.unique())\n",
    "print(num_diseases, num_drugs)"
   ]
  },
  {
   "cell_type": "code",
   "execution_count": 54,
   "metadata": {
    "id": "S0kMTFM8v4I2"
   },
   "outputs": [],
   "source": [
    "def train_epochs(model, epochs=20, lr=0.01, wd=0.0):\n",
    "  optimizer = torch.optim.Adam(model.parameters(), lr=lr, weight_decay=wd)\n",
    "  for i in range(epochs):\n",
    "    model.train()\n",
    "    diseases = torch.LongTensor(train.diseaseName_id.values)\n",
    "    drugs = torch.LongTensor(train.drug_name_id.values)\n",
    "    score = torch.FloatTensor(train.globalScore.values)\n",
    "\n",
    "    y_hat = model(diseases, drugs)\n",
    "    loss = F.mse_loss(y_hat, score)\n",
    "    optimizer.zero_grad()\n",
    "    loss.backward()\n",
    "    optimizer.step()\n",
    "    testloss = valid_loss(model)\n",
    "    print(\"train loss %.3f valid loss %.3f\" % (loss.drugs(), testloss))\n"
   ]
  },
  {
   "cell_type": "code",
   "execution_count": 55,
   "metadata": {
    "id": "7eKteS3HyIRx"
   },
   "outputs": [],
   "source": [
    "def valid_loss(model):\n",
    "  model.eval()\n",
    "  diseases = torch.LongTensor(val.diseaseName_id.values)\n",
    "  drugs = torch.LongTensor(val.drug_name_id.values)\n",
    "  score = torch.FloatTensor(val.globalScore.values)\n",
    "\n",
    "  y_hat = model(diseases, drugs)\n",
    "  loss = F.mse_loss(y_hat, score)\n",
    "  return loss.item()"
   ]
  },
  {
   "cell_type": "code",
   "execution_count": 56,
   "metadata": {
    "id": "G-9K5n_lysdV"
   },
   "outputs": [],
   "source": [
    "model =MatrixFactorization(num_diseases, num_drugs, emb_size=1000)"
   ]
  },
  {
   "cell_type": "code",
   "execution_count": null,
   "metadata": {
    "id": "QdbeBNmiy6H8"
   },
   "outputs": [],
   "source": [
    "train_epochs(model, epochs=10, lr=0.1, wd=1e-5)"
   ]
  }
 ],
 "metadata": {
  "colab": {
   "collapsed_sections": [],
   "name": "Copie de PFA_FINAL.ipynb",
   "provenance": []
  },
  "kernelspec": {
   "display_name": "Python 3",
   "language": "python",
   "name": "python3"
  },
  "language_info": {
   "codemirror_mode": {
    "name": "ipython",
    "version": 3
   },
   "file_extension": ".py",
   "mimetype": "text/x-python",
   "name": "python",
   "nbconvert_exporter": "python",
   "pygments_lexer": "ipython3",
   "version": "3.7.6"
  }
 },
 "nbformat": 4,
 "nbformat_minor": 1
}
