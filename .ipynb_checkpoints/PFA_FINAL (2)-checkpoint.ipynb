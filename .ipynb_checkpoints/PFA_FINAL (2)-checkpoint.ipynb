{
 "cells": [
  {
   "cell_type": "code",
   "execution_count": 3,
   "metadata": {},
   "outputs": [
    {
     "name": "stderr",
     "output_type": "stream",
     "text": [
      "ERROR: Invalid requirement: '–upgrade'\n"
     ]
    }
   ],
   "source": [
    "!pip install –upgrade pip"
   ]
  },
  {
   "cell_type": "code",
   "execution_count": 1,
   "metadata": {
    "id": "R5bHFeiwRIKT"
   },
   "outputs": [
    {
     "ename": "ModuleNotFoundError",
     "evalue": "No module named 'tensorflow'",
     "output_type": "error",
     "traceback": [
      "\u001b[1;31m---------------------------------------------------------------------------\u001b[0m",
      "\u001b[1;31mModuleNotFoundError\u001b[0m                       Traceback (most recent call last)",
      "\u001b[1;32m<ipython-input-1-09ddbab550bd>\u001b[0m in \u001b[0;36m<module>\u001b[1;34m\u001b[0m\n\u001b[0;32m     14\u001b[0m \u001b[1;32mfrom\u001b[0m \u001b[0mtorchvision\u001b[0m \u001b[1;32mimport\u001b[0m \u001b[0mtransforms\u001b[0m\u001b[1;33m\u001b[0m\u001b[1;33m\u001b[0m\u001b[0m\n\u001b[0;32m     15\u001b[0m \u001b[1;31m# import packages\u001b[0m\u001b[1;33m\u001b[0m\u001b[1;33m\u001b[0m\u001b[1;33m\u001b[0m\u001b[0m\n\u001b[1;32m---> 16\u001b[1;33m \u001b[1;32mimport\u001b[0m \u001b[0mtensorflow\u001b[0m \u001b[1;32mas\u001b[0m \u001b[0mtf\u001b[0m\u001b[1;33m\u001b[0m\u001b[1;33m\u001b[0m\u001b[0m\n\u001b[0m",
      "\u001b[1;31mModuleNotFoundError\u001b[0m: No module named 'tensorflow'"
     ]
    }
   ],
   "source": [
    "import pandas as pd \n",
    "import networkx as nx\n",
    "import matplotlib.pyplot as plt\n",
    "from matplotlib.pyplot import figure\n",
    "#pytorch\n",
    "import torch\n",
    "import torch.nn as nn\n",
    "import torch.nn.functional as F\n",
    "import torch.utils.data as data\n",
    "import torch.optim as optim\n",
    "# Torchvision\n",
    "import torchvision\n",
    "from torchvision.datasets import CIFAR10\n",
    "from torchvision import transforms\n",
    "# import packages\n",
    "import tensorflow as tf"
   ]
  },
  {
   "cell_type": "code",
   "execution_count": null,
   "metadata": {
    "colab": {
     "base_uri": "https://localhost:8080/",
     "height": 461
    },
    "id": "VprxIt8KRIKW",
    "outputId": "feceaa2d-f861-4615-fb1d-2a4d3f756d90"
   },
   "outputs": [],
   "source": [
    "df = pd.read_csv('interactions.tsv', sep = '\\t')\n",
    "df"
   ]
  },
  {
   "cell_type": "code",
   "execution_count": null,
   "metadata": {
    "colab": {
     "base_uri": "https://localhost:8080/",
     "height": 423
    },
    "id": "AdErI0dWRIKW",
    "outputId": "83f35bfd-d625-4934-8f96-3b28453627e7"
   },
   "outputs": [],
   "source": [
    "newDF = df[['gene_name','drug_name','interaction_group_score']]\n",
    "newDF"
   ]
  },
  {
   "cell_type": "code",
   "execution_count": null,
   "metadata": {
    "colab": {
     "base_uri": "https://localhost:8080/"
    },
    "id": "YsuYxQ3pRIKX",
    "outputId": "4c964c84-e615-48a2-dc65-4e8310775fad"
   },
   "outputs": [],
   "source": [
    "newDF['gene_name'].isnull().sum()"
   ]
  },
  {
   "cell_type": "code",
   "execution_count": null,
   "metadata": {
    "colab": {
     "base_uri": "https://localhost:8080/",
     "height": 423
    },
    "id": "xNs_f0f0RIKX",
    "outputId": "0fb1eb0f-399c-4a01-9be9-fe09a1d208ca"
   },
   "outputs": [],
   "source": [
    "dataframe = newDF.dropna()\n",
    "dataframe"
   ]
  },
  {
   "cell_type": "code",
   "execution_count": null,
   "metadata": {
    "colab": {
     "base_uri": "https://localhost:8080/"
    },
    "id": "o9SqQ4MaRIKX",
    "outputId": "3eaef0f6-37d4-4923-a804-ab008f5872f0"
   },
   "outputs": [],
   "source": [
    "dataframe['drug_name'].isnull().sum()"
   ]
  },
  {
   "cell_type": "code",
   "execution_count": null,
   "metadata": {
    "colab": {
     "base_uri": "https://localhost:8080/"
    },
    "id": "cGUjF_afRIKY",
    "outputId": "8114b4f9-d0b6-4f6a-f0a7-d0f138a2878e"
   },
   "outputs": [],
   "source": [
    "dataframe['gene_name'].isnull().sum()"
   ]
  },
  {
   "cell_type": "code",
   "execution_count": null,
   "metadata": {
    "colab": {
     "base_uri": "https://localhost:8080/"
    },
    "id": "WsWzRckuRIKY",
    "outputId": "7baf29bc-d02c-4831-9b5a-05203a1a363d"
   },
   "outputs": [],
   "source": [
    "dataframe['interaction_group_score'].isnull().sum()"
   ]
  },
  {
   "cell_type": "code",
   "execution_count": null,
   "metadata": {
    "id": "iJfi8bUURIKY"
   },
   "outputs": [],
   "source": [
    "#dataframe.groupby('gene_name')"
   ]
  },
  {
   "cell_type": "code",
   "execution_count": null,
   "metadata": {
    "colab": {
     "base_uri": "https://localhost:8080/",
     "height": 423
    },
    "id": "Lgx_DzMxRIKZ",
    "outputId": "a05b8365-d1f0-4704-c3a8-1390c33c3d6c"
   },
   "outputs": [],
   "source": [
    "dataframe.sort_values('gene_name')"
   ]
  },
  {
   "cell_type": "code",
   "execution_count": null,
   "metadata": {
    "id": "kSqO_p_7RIKZ"
   },
   "outputs": [],
   "source": [
    "G = nx.from_pandas_edgelist(dataframe[:30], source='gene_name', target='drug_name',edge_attr= 'interaction_group_score')"
   ]
  },
  {
   "cell_type": "code",
   "execution_count": null,
   "metadata": {
    "colab": {
     "base_uri": "https://localhost:8080/"
    },
    "id": "Hj5fZm-QRIKZ",
    "outputId": "147107ff-16ad-4d29-9ff2-aaf2fbaae5ee"
   },
   "outputs": [],
   "source": [
    "# Give the graph a name\n",
    "G.name = 'Drug Interactions Network'\n",
    "\n",
    "# Obtain general information of graph\n",
    "print(nx.info(G))\n",
    "\n",
    "# Get graph density\n",
    "density = nx.density(G)\n",
    "print(\"Network density:\", density)"
   ]
  },
  {
   "cell_type": "code",
   "execution_count": null,
   "metadata": {
    "colab": {
     "base_uri": "https://localhost:8080/",
     "height": 1000
    },
    "id": "THHt-zFgRIKa",
    "outputId": "dedec953-5d9a-4f86-b96f-f7c61c85920d"
   },
   "outputs": [],
   "source": [
    "figure(figsize=(15, 20))\n",
    "pos = nx.spring_layout(G, k=10)  # For better example looking\n",
    "nx.draw(G, pos, with_labels=True)\n",
    "labels = {e: G.edges[e]['interaction_group_score'] for e in G.edges}\n",
    "nx.draw_networkx_edge_labels(G, pos, edge_labels=labels)\n",
    "plt.show()"
   ]
  },
  {
   "cell_type": "code",
   "execution_count": null,
   "metadata": {
    "id": "yr2ilSvnRIKa"
   },
   "outputs": [],
   "source": [
    "Newdf2 = pd.read_csv('curated_gene_disease_associations.tsv', sep = '\\t')"
   ]
  },
  {
   "cell_type": "code",
   "execution_count": null,
   "metadata": {
    "colab": {
     "base_uri": "https://localhost:8080/",
     "height": 600
    },
    "id": "M4mEfxcCRIKa",
    "outputId": "1f6fb9ac-5290-4954-8752-67e8be6ac6db"
   },
   "outputs": [],
   "source": [
    "Newdf2"
   ]
  },
  {
   "cell_type": "code",
   "execution_count": null,
   "metadata": {
    "colab": {
     "base_uri": "https://localhost:8080/",
     "height": 423
    },
    "id": "D8wFMN1LRIKa",
    "outputId": "8fbfc486-5e87-4f1f-b233-ecbada268c51"
   },
   "outputs": [],
   "source": [
    "newDF2 = Newdf2[['geneSymbol','diseaseName','score']]\n",
    "newDF2"
   ]
  },
  {
   "cell_type": "code",
   "execution_count": null,
   "metadata": {
    "colab": {
     "base_uri": "https://localhost:8080/"
    },
    "id": "6XfqogKwRIKb",
    "outputId": "a6a0f81e-0616-49f8-af8c-0ee4af7311b6"
   },
   "outputs": [],
   "source": [
    "newDF2['geneSymbol'].isnull().sum()"
   ]
  },
  {
   "cell_type": "code",
   "execution_count": null,
   "metadata": {
    "colab": {
     "base_uri": "https://localhost:8080/",
     "height": 423
    },
    "id": "J5weJ9BHRIKb",
    "outputId": "1c6ab559-5373-4f3f-dc4f-508dec61fe42"
   },
   "outputs": [],
   "source": [
    "dataf = newDF2.dropna()\n",
    "dataf"
   ]
  },
  {
   "cell_type": "code",
   "execution_count": null,
   "metadata": {
    "colab": {
     "base_uri": "https://localhost:8080/",
     "height": 423
    },
    "id": "3pAHZtxcRIKb",
    "outputId": "989c9f29-b00c-4671-91ee-a27c7652df1c"
   },
   "outputs": [],
   "source": [
    "dataf.sort_values('geneSymbol')"
   ]
  },
  {
   "cell_type": "code",
   "execution_count": null,
   "metadata": {
    "id": "scrEZ_jsRIKb"
   },
   "outputs": [],
   "source": [
    "G = nx.from_pandas_edgelist(dataf, source='geneSymbol', target='diseaseName',edge_attr= 'score')"
   ]
  },
  {
   "cell_type": "code",
   "execution_count": null,
   "metadata": {
    "colab": {
     "base_uri": "https://localhost:8080/"
    },
    "id": "WHtp8KxiRIKc",
    "outputId": "2c78b911-0bb5-4a09-d887-e0926c04b827"
   },
   "outputs": [],
   "source": [
    "# Give the graph a name\n",
    "G.name = 'Disease Interactions Network'\n",
    "\n",
    "# Obtain general information of graph\n",
    "print(nx.info(G))\n",
    "\n",
    "# Get graph density\n",
    "density = nx.density(G)\n",
    "print(\"Network density:\", density)"
   ]
  },
  {
   "cell_type": "code",
   "execution_count": null,
   "metadata": {
    "id": "AInF7XYQRIKc"
   },
   "outputs": [],
   "source": [
    "#figure(figsize=(15, 20))\n",
    "#pos = nx.spring_layout(G, k=10)  # For better example looking\n",
    "#nx.draw(G, pos, with_labels=True)\n",
    "#labels = {e: G.edges[e]['score'] for e in G.edges}\n",
    "#nx.draw_networkx_edge_labels(G, pos, edge_labels=labels)\n",
    "#plt.show()"
   ]
  },
  {
   "cell_type": "code",
   "execution_count": null,
   "metadata": {
    "colab": {
     "base_uri": "https://localhost:8080/",
     "height": 423
    },
    "id": "Btf4x9a_RIKc",
    "outputId": "5818cbce-cffe-4ddf-b4a0-9506d8cebe60"
   },
   "outputs": [],
   "source": [
    "dataf.rename(columns = {'geneSymbol':'gene_name'}, inplace = True)\n",
    "dataf"
   ]
  },
  {
   "cell_type": "code",
   "execution_count": null,
   "metadata": {
    "id": "IoVbpEDiRIKc"
   },
   "outputs": [],
   "source": [
    "Finaldf=pd.merge(dataframe, dataf, on = \"gene_name\")"
   ]
  },
  {
   "cell_type": "code",
   "execution_count": null,
   "metadata": {
    "colab": {
     "base_uri": "https://localhost:8080/",
     "height": 423
    },
    "id": "8NlG2Pq6RIKd",
    "outputId": "752fc732-1180-42d4-ad43-91f6ea57025a"
   },
   "outputs": [],
   "source": [
    "Finaldf"
   ]
  },
  {
   "cell_type": "code",
   "execution_count": null,
   "metadata": {
    "colab": {
     "base_uri": "https://localhost:8080/",
     "height": 423
    },
    "id": "8vtMtKLpRIKd",
    "outputId": "4ff0d3a7-8a77-44e3-f56e-62dec9c5df97"
   },
   "outputs": [],
   "source": [
    "Finaldf.sort_values('gene_name')"
   ]
  },
  {
   "cell_type": "code",
   "execution_count": null,
   "metadata": {
    "colab": {
     "base_uri": "https://localhost:8080/",
     "height": 423
    },
    "id": "qMlap3w7RIKd",
    "outputId": "d0b0fa89-2789-4f2a-b9df-bfa72e4369d4"
   },
   "outputs": [],
   "source": [
    "Finaldf['globalScore']=Finaldf['score']*Finaldf['interaction_group_score']\n",
    "Finaldf"
   ]
  },
  {
   "cell_type": "code",
   "execution_count": null,
   "metadata": {
    "colab": {
     "base_uri": "https://localhost:8080/",
     "height": 423
    },
    "id": "dK2ivJHKRIKd",
    "outputId": "3e79fbc8-5c38-4391-9099-54cfbd558c7c"
   },
   "outputs": [],
   "source": [
    "finalDf=Finaldf[['diseaseName','drug_name','globalScore']]\n",
    "finalDf"
   ]
  },
  {
   "cell_type": "code",
   "execution_count": null,
   "metadata": {
    "id": "ykRRf-EiRIKe"
   },
   "outputs": [],
   "source": [
    "G = nx.from_pandas_edgelist(finalDf, source='diseaseName', target='drug_name',edge_attr= 'globalScore')"
   ]
  },
  {
   "cell_type": "code",
   "execution_count": null,
   "metadata": {
    "colab": {
     "base_uri": "https://localhost:8080/"
    },
    "id": "oyPNi4PFRIKe",
    "outputId": "4fd9ea80-f66e-4ace-de49-c67aa1cad76c"
   },
   "outputs": [],
   "source": [
    "# Give the graph a name\n",
    "G.name = 'Disease & drug Interactions Network'\n",
    "\n",
    "# Obtain general information of graph\n",
    "print(nx.info(G))\n",
    "\n",
    "# Get graph density\n",
    "density = nx.density(G)\n",
    "print(\"Network density:\", density)"
   ]
  },
  {
   "cell_type": "code",
   "execution_count": null,
   "metadata": {
    "id": "04hivue8RIKe"
   },
   "outputs": [],
   "source": [
    "#figure(figsize=(15, 20))\n",
    "#pos = nx.spring_layout(G, k=10)  # For better example looking\n",
    "#nx.draw(G, pos, with_labels=True)\n",
    "#labels = {e: G.edges[e]['globalScore'] for e in G.edges}\n",
    "#nx.draw_networkx_edge_labels(G, pos, edge_labels=labels)\n",
    "#plt.show()"
   ]
  },
  {
   "cell_type": "code",
   "execution_count": null,
   "metadata": {
    "colab": {
     "base_uri": "https://localhost:8080/"
    },
    "id": "c9F1wpS5RIKe",
    "outputId": "74bfddb9-cd0b-475e-8a3f-3fa55aeea38c"
   },
   "outputs": [],
   "source": [
    "from networkx.algorithms import bipartite\n",
    "print(bipartite.is_bipartite(G))"
   ]
  },
  {
   "cell_type": "code",
   "execution_count": null,
   "metadata": {
    "colab": {
     "base_uri": "https://localhost:8080/"
    },
    "id": "eZdPXAEpRIKe",
    "outputId": "2eb0459b-27ec-4f0c-e85e-833d41b4443d"
   },
   "outputs": [],
   "source": [
    "adj_matrix = nx.adjacency_matrix(G)\n",
    "adj_matrix"
   ]
  },
  {
   "cell_type": "code",
   "execution_count": null,
   "metadata": {
    "colab": {
     "base_uri": "https://localhost:8080/"
    },
    "id": "oYohXac7X3f1",
    "outputId": "eeb39212-d3a6-4102-c9ae-f0a9ba795c1e"
   },
   "outputs": [],
   "source": [
    "Adj = adj_matrix.todense()\n",
    "Adj"
   ]
  },
  {
   "cell_type": "code",
   "execution_count": null,
   "metadata": {
    "colab": {
     "base_uri": "https://localhost:8080/"
    },
    "id": "hQgy3o2nYR8C",
    "outputId": "7354f110-a8bb-4ab6-a3e9-4193b40dc3b3"
   },
   "outputs": [],
   "source": [
    "tensor1 =torch.from_numpy(Adj)\n",
    "tensor1"
   ]
  },
  {
   "cell_type": "code",
   "execution_count": null,
   "metadata": {
    "id": "eSBbGv5-ZE8N"
   },
   "outputs": [],
   "source": [
    "#edge_index = tensor1.nonzero().t().contiguous()"
   ]
  },
  {
   "cell_type": "code",
   "execution_count": null,
   "metadata": {
    "id": "dzUQjXBRcfq5"
   },
   "outputs": [],
   "source": [
    "#print(edge_index)"
   ]
  },
  {
   "cell_type": "code",
   "execution_count": null,
   "metadata": {
    "colab": {
     "base_uri": "https://localhost:8080/"
    },
    "id": "bUDBRV9r4m3D",
    "outputId": "b212d5a5-5f85-498c-e725-4af707847f1c"
   },
   "outputs": [],
   "source": [
    "weights = finalDf['globalScore']\n",
    "type(weights)\n",
    "edge_weight = torch.tensor(weights.values)\n",
    "edge_weight"
   ]
  },
  {
   "cell_type": "code",
   "execution_count": null,
   "metadata": {
    "colab": {
     "base_uri": "https://localhost:8080/"
    },
    "id": "z--2GlOL7dH9",
    "outputId": "bd223ba7-7752-4c50-9617-5ea060510568"
   },
   "outputs": [],
   "source": [
    "edge_weight.size()"
   ]
  },
  {
   "cell_type": "code",
   "execution_count": null,
   "metadata": {
    "colab": {
     "base_uri": "https://localhost:8080/"
    },
    "id": "Zw1qkXQbeka9",
    "outputId": "d71b3d8e-2af8-440c-8b56-93ff24fba78d"
   },
   "outputs": [],
   "source": [
    "!pip install torch-scatter torch-sparse torch-cluster torch-spline-conv torch-geometric -f https://data.pyg.org/whl/torch-1.10.0+cpu.html"
   ]
  },
  {
   "cell_type": "code",
   "execution_count": null,
   "metadata": {
    "id": "AGDR5-OKPLF3"
   },
   "outputs": [],
   "source": [
    "#from torch_geometric.data import Data"
   ]
  },
  {
   "cell_type": "code",
   "execution_count": null,
   "metadata": {
    "id": "OfiAx19EOjtc"
   },
   "outputs": [],
   "source": [
    "edge_index = tensor1.nonzero().t().contiguous()\n",
    "x = torch.tensor([[-1], [0], [1]], dtype=torch.float)\n",
    "\n"
   ]
  },
  {
   "cell_type": "code",
   "execution_count": null,
   "metadata": {
    "colab": {
     "base_uri": "https://localhost:8080/"
    },
    "id": "ctZPyxYxPQtZ",
    "outputId": "183b29e4-4062-4763-f430-938d6ef48642"
   },
   "outputs": [],
   "source": [
    "data"
   ]
  },
  {
   "cell_type": "code",
   "execution_count": null,
   "metadata": {
    "id": "zsRh_OK-eLoF"
   },
   "outputs": [],
   "source": [
    "#from torch_geometric.datasets import TUDataset\n",
    "from torch_geometric.loader import DataLoader\n",
    "from torch_geometric.nn import GCNConv\n",
    "\n",
    "\n",
    "#dataset = Planetoid(root='/tmp/Cora', name='Cora')\n",
    "loader = DataLoader(tensor1, batch_size=100, shuffle=True)\n",
    "\n",
    "for batch in loader:\n",
    "    print(batch)"
   ]
  },
  {
   "cell_type": "code",
   "execution_count": null,
   "metadata": {
    "id": "7bGHghE6eROY"
   },
   "outputs": [],
   "source": [
    "import torch\n",
    "import torch.nn.functional as F\n",
    "from torch_geometric.nn import GCNConv\n"
   ]
  },
  {
   "cell_type": "code",
   "execution_count": null,
   "metadata": {
    "id": "3xAhgWPDOL3X"
   },
   "outputs": [],
   "source": [
    "use_cuda_if_available = 'False'"
   ]
  },
  {
   "cell_type": "code",
   "execution_count": null,
   "metadata": {
    "id": "zhQ4RsvROOcd"
   },
   "outputs": [],
   "source": [
    "class GCN(torch.nn.Module):\n",
    "    def __init__(self):\n",
    "        super().__init__()\n",
    "        self.conv1 = GCNConv(dataset.num_node_features, 64)\n",
    "        self.conv2 = GCNConv(64, 32)\n",
    "        self.conv3 = GCNConv(32, dataset.num_classes)\n",
    "\n",
    "    def forward(self, data):\n",
    "        x, edge_index = data.x, data.edge_index\n",
    "\n",
    "        x = self.conv1(x, edge_index)\n",
    "        x = F.relu(x)\n",
    "        x = F.dropout(x, training=self.training)\n",
    "        x = self.conv2(x, edge_index)\n",
    "        x = F.relu(x)\n",
    "        x = F.dropout(x, training=self.training)\n",
    "        x = self.conv3(x, edge_index)\n",
    "        \n",
    "        return F.log_softmax(x, dim=1)"
   ]
  },
  {
   "cell_type": "code",
   "execution_count": null,
   "metadata": {
    "id": "LAH3UKp-OP3F"
   },
   "outputs": [],
   "source": [
    "device = torch.device('cuda' if torch.cuda.is_available() else 'cpu')\n",
    "model = GCN().to(device)\n",
    "data = dataset[0].to(device)\n",
    "optimizer = torch.optim.Adam(model.parameters(), lr=0.01, weight_decay=5e-4)"
   ]
  }
 ],
 "metadata": {
  "colab": {
   "collapsed_sections": [],
   "name": "PFA_FINAL.ipynb",
   "provenance": []
  },
  "kernelspec": {
   "display_name": "Python 3",
   "language": "python",
   "name": "python3"
  },
  "language_info": {
   "codemirror_mode": {
    "name": "ipython",
    "version": 3
   },
   "file_extension": ".py",
   "mimetype": "text/x-python",
   "name": "python",
   "nbconvert_exporter": "python",
   "pygments_lexer": "ipython3",
   "version": "3.7.6"
  }
 },
 "nbformat": 4,
 "nbformat_minor": 1
}
